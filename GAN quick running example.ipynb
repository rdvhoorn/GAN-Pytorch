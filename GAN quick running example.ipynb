{
 "cells": [
  {
   "cell_type": "code",
   "execution_count": 1,
   "metadata": {
    "execution": {
     "iopub.execute_input": "2023-05-18T07:46:54.082854Z",
     "iopub.status.busy": "2023-05-18T07:46:54.082349Z",
     "iopub.status.idle": "2023-05-18T07:46:54.924336Z",
     "shell.execute_reply": "2023-05-18T07:46:54.923650Z",
     "shell.execute_reply.started": "2023-05-18T07:46:54.082834Z"
    }
   },
   "outputs": [],
   "source": [
    "%load_ext autoreload\n",
    "%autoreload 2\n",
    "\n",
    "import torch\n",
    "from torch.utils.data import DataLoader\n",
    "\n",
    "import numpy as np\n",
    "\n",
    "from torchvision import datasets\n",
    "from torchvision.transforms import Normalize\n",
    "\n",
    "from src.discriminator import Discriminator\n",
    "from src.generator import Generator\n",
    "from src.gan_trainer import GANTrainer\n",
    "from src.utils import GANType, generate_2d_normal_prior\n",
    "\n",
    "DEVICE = 'cuda' if torch.cuda.is_available() else 'cpu'"
   ]
  },
  {
   "cell_type": "markdown",
   "metadata": {},
   "source": [
    "# Load data, create DataLoader"
   ]
  },
  {
   "cell_type": "code",
   "execution_count": 3,
   "metadata": {
    "collapsed": false,
    "execution": {
     "iopub.execute_input": "2023-05-18T07:47:07.837610Z",
     "iopub.status.busy": "2023-05-18T07:47:07.837083Z",
     "iopub.status.idle": "2023-05-18T07:47:07.921578Z",
     "shell.execute_reply": "2023-05-18T07:47:07.920943Z",
     "shell.execute_reply.started": "2023-05-18T07:47:07.837587Z"
    },
    "jupyter": {
     "outputs_hidden": false
    }
   },
   "outputs": [],
   "source": [
    "# Download the MNIST dataset.\n",
    "mnist_dataset = datasets.MNIST(root='./.data/mnist_data/', train=True, download=True)"
   ]
  },
  {
   "cell_type": "code",
   "execution_count": 4,
   "metadata": {
    "collapsed": false,
    "execution": {
     "iopub.execute_input": "2023-05-18T07:47:09.434326Z",
     "iopub.status.busy": "2023-05-18T07:47:09.433501Z",
     "iopub.status.idle": "2023-05-18T07:47:09.568368Z",
     "shell.execute_reply": "2023-05-18T07:47:09.567590Z",
     "shell.execute_reply.started": "2023-05-18T07:47:09.434300Z"
    },
    "jupyter": {
     "outputs_hidden": false
    }
   },
   "outputs": [],
   "source": [
    "# Preprocess dataset (cast to float, normalize, and reshape/flatten samples)\n",
    "def preprocess_dataset(dataset):\n",
    "    dataset = dataset.float()\n",
    "    normalized_dataset = ((dataset / 255) * 2) - 1\n",
    "    reshaped_dataset = normalized_dataset.reshape(dataset.shape[0], -1)\n",
    "    return reshaped_dataset\n",
    "\n",
    "preprocessed_dataset = preprocess_dataset(mnist_dataset.data)"
   ]
  },
  {
   "cell_type": "code",
   "execution_count": 5,
   "metadata": {
    "collapsed": false,
    "execution": {
     "iopub.execute_input": "2023-05-18T07:47:10.680546Z",
     "iopub.status.busy": "2023-05-18T07:47:10.680002Z",
     "iopub.status.idle": "2023-05-18T07:47:10.695625Z",
     "shell.execute_reply": "2023-05-18T07:47:10.694957Z",
     "shell.execute_reply.started": "2023-05-18T07:47:10.680522Z"
    },
    "jupyter": {
     "outputs_hidden": false
    }
   },
   "outputs": [],
   "source": [
    "# Create training dataloader\n",
    "batch_size = 128\n",
    "dataloader = DataLoader(dataset=preprocessed_dataset, batch_size=batch_size, shuffle=True, drop_last=True)"
   ]
  },
  {
   "cell_type": "code",
   "execution_count": 6,
   "metadata": {
    "collapsed": false,
    "execution": {
     "iopub.execute_input": "2023-05-18T07:47:12.110418Z",
     "iopub.status.busy": "2023-05-18T07:47:12.109634Z",
     "iopub.status.idle": "2023-05-18T07:47:12.133322Z",
     "shell.execute_reply": "2023-05-18T07:47:12.132722Z",
     "shell.execute_reply.started": "2023-05-18T07:47:12.110393Z"
    },
    "jupyter": {
     "outputs_hidden": false
    }
   },
   "outputs": [
    {
     "name": "stdout",
     "output_type": "stream",
     "text": [
      "Example of batch:\n",
      "tensor([[-1., -1., -1.,  ..., -1., -1., -1.],\n",
      "        [-1., -1., -1.,  ..., -1., -1., -1.],\n",
      "        [-1., -1., -1.,  ..., -1., -1., -1.],\n",
      "        ...,\n",
      "        [-1., -1., -1.,  ..., -1., -1., -1.],\n",
      "        [-1., -1., -1.,  ..., -1., -1., -1.],\n",
      "        [-1., -1., -1.,  ..., -1., -1., -1.]])\n",
      "\n",
      "Feature space size:\n",
      "784\n"
     ]
    }
   ],
   "source": [
    "# Check if dataloader is correct\n",
    "batch_of_data = next(iter(dataloader))\n",
    "feature_dim = batch_of_data.shape[1]\n",
    "\n",
    "print(\"Example of batch:\")\n",
    "print(batch_of_data)\n",
    "\n",
    "print(\"\\nFeature space size:\")\n",
    "print(feature_dim)"
   ]
  },
  {
   "cell_type": "markdown",
   "metadata": {},
   "source": [
    "# Initialize and train GAN"
   ]
  },
  {
   "cell_type": "code",
   "execution_count": 7,
   "metadata": {
    "collapsed": false,
    "execution": {
     "iopub.execute_input": "2023-05-18T07:47:14.121235Z",
     "iopub.status.busy": "2023-05-18T07:47:14.120954Z",
     "iopub.status.idle": "2023-05-18T07:47:14.135915Z",
     "shell.execute_reply": "2023-05-18T07:47:14.135224Z",
     "shell.execute_reply.started": "2023-05-18T07:47:14.121215Z"
    },
    "jupyter": {
     "outputs_hidden": false
    }
   },
   "outputs": [],
   "source": [
    "# Hyperparameters\n",
    "prior_size = 100\n",
    "dropout = 0.2\n",
    "leaky_relu_slope = 0.2\n",
    "learning_rate = 0.00005"
   ]
  },
  {
   "cell_type": "code",
   "execution_count": 8,
   "metadata": {
    "collapsed": false,
    "execution": {
     "iopub.execute_input": "2023-05-18T07:47:15.031661Z",
     "iopub.status.busy": "2023-05-18T07:47:15.031392Z",
     "iopub.status.idle": "2023-05-18T07:47:16.301440Z",
     "shell.execute_reply": "2023-05-18T07:47:16.300869Z",
     "shell.execute_reply.started": "2023-05-18T07:47:15.031642Z"
    },
    "jupyter": {
     "outputs_hidden": false
    }
   },
   "outputs": [],
   "source": [
    "# Initialize components\n",
    "generator = Generator(prior_size, feature_dim, dropout, leaky_relu_slope=leaky_relu_slope)\n",
    "discriminator = Discriminator(feature_dim, dropout, leaky_relu_slope, discriminator_type=GANType.GAN)\n",
    "\n",
    "generator_optimizer = torch.optim.Adam(generator.parameters(), lr=learning_rate)\n",
    "discriminator_optimizer = torch.optim.Adam(discriminator.parameters(), lr=learning_rate)\n",
    "\n",
    "prior_generation_function = generate_2d_normal_prior\n",
    "\n",
    "trainer = GANTrainer(generator, discriminator, generator_optimizer, discriminator_optimizer, dataloader, prior_size, prior_generation_function, DEVICE)"
   ]
  },
  {
   "cell_type": "code",
   "execution_count": 9,
   "metadata": {
    "collapsed": false,
    "execution": {
     "iopub.execute_input": "2023-05-18T07:47:17.488032Z",
     "iopub.status.busy": "2023-05-18T07:47:17.487409Z",
     "iopub.status.idle": "2023-05-18T07:57:36.699324Z",
     "shell.execute_reply": "2023-05-18T07:57:36.698885Z",
     "shell.execute_reply.started": "2023-05-18T07:47:17.488011Z"
    },
    "jupyter": {
     "outputs_hidden": false
    }
   },
   "outputs": [
    {
     "name": "stderr",
     "output_type": "stream",
     "text": [
      "[10:19<00:00,161.50it/s]100%|██████████[100000/100000]: Generator loss: 0.732, Discriminator loss: 1.325\n"
     ]
    }
   ],
   "source": [
    "# Train GAN\n",
    "n_epochs = 100000\n",
    "n_generator = 1\n",
    "n_discriminator = 1\n",
    "\n",
    "trainer.train(n_epochs, n_generator, n_discriminator)"
   ]
  },
  {
   "cell_type": "markdown",
   "metadata": {},
   "source": [
    "# Analysis of training and results"
   ]
  },
  {
   "cell_type": "code",
   "execution_count": 10,
   "metadata": {
    "collapsed": false,
    "execution": {
     "iopub.execute_input": "2023-05-18T08:03:37.807564Z",
     "iopub.status.busy": "2023-05-18T08:03:37.806701Z",
     "iopub.status.idle": "2023-05-18T08:03:38.661987Z",
     "shell.execute_reply": "2023-05-18T08:03:38.661520Z",
     "shell.execute_reply.started": "2023-05-18T08:03:37.807538Z"
    },
    "jupyter": {
     "outputs_hidden": false
    }
   },
   "outputs": [
    {
     "name": "stderr",
     "output_type": "stream",
     "text": [
      "INFO     [font_manager.py:1633] generated new fontManager\n"
     ]
    },
    {
     "data": {
      "text/plain": [
       "<matplotlib.legend.Legend at 0x7f0ec5ca1760>"
      ]
     },
     "execution_count": 10,
     "metadata": {},
     "output_type": "execute_result"
    },
    {
     "data": {
      "image/png": "[encoded data removed]",
      "text/plain": [
       "<Figure size 640x480 with 1 Axes>"
      ]
     },
     "metadata": {},
     "output_type": "display_data"
    }
   ],
   "source": [
    "import matplotlib.pyplot as plt\n",
    "\n",
    "# Plot loss graphs\n",
    "plt.plot(trainer.g_losses, label=\"generator loss\")\n",
    "plt.plot(trainer.d_losses, label=\"discriminator loss\")\n",
    "plt.legend()"
   ]
  },
  {
   "cell_type": "code",
   "execution_count": 13,
   "metadata": {
    "collapsed": false,
    "execution": {
     "iopub.execute_input": "2023-05-18T08:04:05.110310Z",
     "iopub.status.busy": "2023-05-18T08:04:05.109546Z",
     "iopub.status.idle": "2023-05-18T08:04:05.130835Z",
     "shell.execute_reply": "2023-05-18T08:04:05.130392Z",
     "shell.execute_reply.started": "2023-05-18T08:04:05.110284Z"
    },
    "jupyter": {
     "outputs_hidden": false
    }
   },
   "outputs": [],
   "source": [
    "# Plot synthetic samples\n",
    "number_of_samples_to_generate = 50\n",
    "synthetic_samples = trainer.generate_n_samples(number_of_samples_to_generate).cpu().reshape(number_of_samples_to_generate, 28, 28)"
   ]
  },
  {
   "cell_type": "code",
   "execution_count": 17,
   "metadata": {
    "collapsed": false,
    "execution": {
     "iopub.execute_input": "2023-05-18T08:04:11.580782Z",
     "iopub.status.busy": "2023-05-18T08:04:11.580026Z",
     "iopub.status.idle": "2023-05-18T08:04:11.786976Z",
     "shell.execute_reply": "2023-05-18T08:04:11.786529Z",
     "shell.execute_reply.started": "2023-05-18T08:04:11.580757Z"
    },
    "jupyter": {
     "outputs_hidden": false
    }
   },
   "outputs": [
    {
     "data": {
      "image/png": "[encoded data removed]",
      "text/plain": [
       "<Figure size 1200x300 with 4 Axes>"
      ]
     },
     "metadata": {},
     "output_type": "display_data"
    }
   ],
   "source": [
    "indices = np.random.choice(number_of_samples_to_generate, size=4, replace=False)\n",
    "\n",
    "# Step 2: Plot the images corresponding to the indices\n",
    "fig, axes = plt.subplots(1, 4, figsize=(12, 3))\n",
    "\n",
    "for i, idx in enumerate(indices):\n",
    "    image = synthetic_samples[idx]\n",
    "    axes[i].imshow(image, cmap='gray')\n",
    "    axes[i].axis('off')\n",
    "\n",
    "plt.show()"
   ]
  },
  {
   "cell_type": "code",
   "execution_count": null,
   "metadata": {
    "collapsed": false,
    "jupyter": {
     "outputs_hidden": false
    }
   },
   "outputs": [],
   "source": []
  }
 ],
 "metadata": {
  "kernelspec": {
   "display_name": "Python 3 (ipykernel)",
   "language": "python",
   "name": "python3"
  },
  "language_info": {
   "codemirror_mode": {
    "name": "ipython",
    "version": 3
   },
   "file_extension": ".py",
   "mimetype": "text/x-python",
   "name": "python",
   "nbconvert_exporter": "python",
   "pygments_lexer": "ipython3",
   "version": "3.9.16"
  }
 },
 "nbformat": 4,
 "nbformat_minor": 4
}
