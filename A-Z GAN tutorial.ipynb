{
 "cells": [
  {
   "cell_type": "markdown",
   "source": [
    "# Generative Adversarial Networks (GANs) - An A-Z tutorial"
   ],
   "metadata": {
    "collapsed": false,
    "id": "C1uoa6EJxqYN"
   }
  },
  {
   "cell_type": "markdown",
   "source": [
    "## 1. Introduction\n",
    "\n",
    "GANs are one of the most exciting advancements in machine learning in recent years. They have shown remarkable results in a variety of applications such as image synthesis, super-resolution, and image-to-image translation.\n",
    "\n",
    "This notebook aims to introduce you to the fundamental concepts of GANs, guide you through the necessary steps to grasp the GAN framework, and provide hands-on experience with the implementation of a GAN model. By the end of this guide, you will understand:\n",
    "\n",
    "- What GANs are and the theory behind them.\n",
    "- How to implement a basic GAN model.\n",
    "- How to train a GAN model.\n",
    "- The limitations and challenges of GANs.\n",
    "\n",
    "This guide is designed to be informative. It is to get you up to speed very quickly with how GANs work, not to challenge you to implement one yourself. This notebook covers the basics, but I encourage you to look at all the interesting follow-up work and see what is out there for yourself."
   ],
   "metadata": {
    "collapsed": false,
    "id": "KyKkOtBZxqYP"
   }
  },
  {
   "cell_type": "markdown",
   "source": [
    "## 2. Background and Theory\n",
    "\n",
    "GANs, short for Generative Adversarial Networks, are a class of machine learning frameworks introduced by [Ian Goodfellow and his colleagues in 2014](https://papers.nips.cc/paper_files/paper/2014/hash/5ca3e9b122f61f8f06494c97b1afccf3-Abstract.html). They are designed to generate new, synthetic instances of data that can pass for real, existing instances.\n",
    "\n",
    "### 2.1 Fundamental Concepts\n",
    "\n",
    "GANs consist of two parts:\n",
    "\n",
    "**Generator:** This is the \"counterfeiter,\" tasked with creating fake data. The generator takes random noise as input and generates data (e.g., an image) as output.\n",
    "\n",
    "**Discriminator:** This is the \"police,\" trying to distinguish the fake data from real data. It is a binary classifier that outputs the probability that the given input comes from the real dataset rather than the generator.\n",
    "\n",
    "### 2.2 Architecture of GANs\n",
    "\n",
    "The generator and discriminator are set up to play a two-player minimax game, in which the generator tries to fool the discriminator, and the discriminator tries to not get fooled. This process can be summarized as follows:\n",
    "\n",
    "1. The generator creates a batch of fake data.\n",
    "2. The fake data, along with real data, are given to the discriminator.\n",
    "3. The discriminator classifies the data as real or fake.\n",
    "4. Both the generator and discriminator learn from their mistakes and adjust for the next round.\n",
    "\n",
    "This adversarial process leads the generator to produce increasingly realistic data, while the discriminator becomes better at distinguishing fake data. Over time, the generator can produce data that's almost indistinguishable from the real data.\n",
    "\n",
    "### 2.3 Understanding the Loss Function\n",
    "\n",
    "The loss function of a GAN reflects the adversarial relationship between the generator and the discriminator. The generator aims to minimize this function, while the discriminator aims to maximize it. This is the essence of the minimax game played between the two.\n",
    "\n",
    "Mathematically, the value function $V$ for a simple GAN can be written as:\n",
    "\n",
    "$$\\min_G \\max_D V(D, G) = \\mathbb{E}_{x\\sim p_{data}(x)}[\\log D(x)] + \\mathbb{E}_{z\\sim p_z(z)}[\\log(1-D(G(z)))]$$\n",
    "\n",
    "where:\n",
    "- `G` is the generator function, which maps from the latent space to the feature (data) space.\n",
    "- `D` is the discriminator function, which outputs the probability that the data came from the real dataset.\n",
    "- `z` is a random prior, a point in the latent space, which is the input that the generator uses to generate a fake sample.\n",
    "- `x` is a point in the feature (data) space.\n",
    "\n",
    "The first term in the equation is the expectation of the log-probability that the discriminator correctly classifies a real instance as real. The second term is the expectation of the log-probability that the discriminator correctly classifies a fake (generated) instance as fake.\n",
    "\n",
    "As the generator's goal is to fool the discriminator, it tries to maximize the probability that the discriminator incorrectly classifies a fake instance as real, hence it aims to minimize `log(1 - D(G(z)))`. On the other hand, the discriminator tries to correctly classify both real and fake instances, hence it aims to maximize both `log(D(x))` and `log(1 - D(G(z)))`.\n",
    "\n",
    "In practice, the generator minimizes the negative of this loss function, which is equivalent to maximizing the probability that the discriminator incorrectly classifies a fake instance as real.\n",
    "\n",
    "Through this process, both the generator and the discriminator improve their ability to generate realistic data and distinguish between real and fake data, respectively."
   ],
   "metadata": {
    "collapsed": false,
    "id": "2_7XHm-qxqYQ"
   }
  },
  {
   "cell_type": "markdown",
   "source": [
    "## 3. Setting up the Environment <a class='anchor' id='section3'></a>\n",
    "\n",
    "Now that you have a rough understanding of how GANs work, let's implement them. For the implementation, we need a couple of libraries."
   ],
   "metadata": {
    "collapsed": false,
    "id": "uTxM7UOKxqYQ"
   }
  },
  {
   "cell_type": "code",
   "execution_count": 1,
   "outputs": [
    {
     "output_type": "stream",
     "name": "stdout",
     "text": [
      "Looking in indexes: https://pypi.org/simple, https://us-python.pkg.dev/colab-wheels/public/simple/\n",
      "Requirement already satisfied: numpy in /usr/local/lib/python3.10/dist-packages (1.22.4)\n",
      "Requirement already satisfied: matplotlib in /usr/local/lib/python3.10/dist-packages (3.7.1)\n",
      "Requirement already satisfied: torch in /usr/local/lib/python3.10/dist-packages (2.0.0+cu118)\n",
      "Requirement already satisfied: torchvision in /usr/local/lib/python3.10/dist-packages (0.15.1+cu118)\n",
      "Requirement already satisfied: tqdm in /usr/local/lib/python3.10/dist-packages (4.65.0)\n",
      "Requirement already satisfied: contourpy>=1.0.1 in /usr/local/lib/python3.10/dist-packages (from matplotlib) (1.0.7)\n",
      "Requirement already satisfied: cycler>=0.10 in /usr/local/lib/python3.10/dist-packages (from matplotlib) (0.11.0)\n",
      "Requirement already satisfied: fonttools>=4.22.0 in /usr/local/lib/python3.10/dist-packages (from matplotlib) (4.39.3)\n",
      "Requirement already satisfied: kiwisolver>=1.0.1 in /usr/local/lib/python3.10/dist-packages (from matplotlib) (1.4.4)\n",
      "Requirement already satisfied: packaging>=20.0 in /usr/local/lib/python3.10/dist-packages (from matplotlib) (23.1)\n",
      "Requirement already satisfied: pillow>=6.2.0 in /usr/local/lib/python3.10/dist-packages (from matplotlib) (8.4.0)\n",
      "Requirement already satisfied: pyparsing>=2.3.1 in /usr/local/lib/python3.10/dist-packages (from matplotlib) (3.0.9)\n",
      "Requirement already satisfied: python-dateutil>=2.7 in /usr/local/lib/python3.10/dist-packages (from matplotlib) (2.8.2)\n",
      "Requirement already satisfied: filelock in /usr/local/lib/python3.10/dist-packages (from torch) (3.12.0)\n",
      "Requirement already satisfied: typing-extensions in /usr/local/lib/python3.10/dist-packages (from torch) (4.5.0)\n",
      "Requirement already satisfied: sympy in /usr/local/lib/python3.10/dist-packages (from torch) (1.11.1)\n",
      "Requirement already satisfied: networkx in /usr/local/lib/python3.10/dist-packages (from torch) (3.1)\n",
      "Requirement already satisfied: jinja2 in /usr/local/lib/python3.10/dist-packages (from torch) (3.1.2)\n",
      "Requirement already satisfied: triton==2.0.0 in /usr/local/lib/python3.10/dist-packages (from torch) (2.0.0)\n",
      "Requirement already satisfied: cmake in /usr/local/lib/python3.10/dist-packages (from triton==2.0.0->torch) (3.25.2)\n",
      "Requirement already satisfied: lit in /usr/local/lib/python3.10/dist-packages (from triton==2.0.0->torch) (16.0.3)\n",
      "Requirement already satisfied: requests in /usr/local/lib/python3.10/dist-packages (from torchvision) (2.27.1)\n",
      "Requirement already satisfied: six>=1.5 in /usr/local/lib/python3.10/dist-packages (from python-dateutil>=2.7->matplotlib) (1.16.0)\n",
      "Requirement already satisfied: MarkupSafe>=2.0 in /usr/local/lib/python3.10/dist-packages (from jinja2->torch) (2.1.2)\n",
      "Requirement already satisfied: urllib3<1.27,>=1.21.1 in /usr/local/lib/python3.10/dist-packages (from requests->torchvision) (1.26.15)\n",
      "Requirement already satisfied: certifi>=2017.4.17 in /usr/local/lib/python3.10/dist-packages (from requests->torchvision) (2022.12.7)\n",
      "Requirement already satisfied: charset-normalizer~=2.0.0 in /usr/local/lib/python3.10/dist-packages (from requests->torchvision) (2.0.12)\n",
      "Requirement already satisfied: idna<4,>=2.5 in /usr/local/lib/python3.10/dist-packages (from requests->torchvision) (3.4)\n",
      "Requirement already satisfied: mpmath>=0.19 in /usr/local/lib/python3.10/dist-packages (from sympy->torch) (1.3.0)\n"
     ]
    }
   ],
   "source": [
    "!pip install numpy matplotlib torch torchvision tqdm"
   ],
   "metadata": {
    "colab": {
     "base_uri": "https://localhost:8080/"
    },
    "id": "4j7Xc6FZxqYR",
    "outputId": "3319418c-1b9b-4b5d-df13-8c6e7743a166"
   }
  },
  {
   "cell_type": "code",
   "execution_count": 2,
   "outputs": [
    {
     "output_type": "stream",
     "name": "stdout",
     "text": [
      "Loaded all libraries successfully!\n"
     ]
    }
   ],
   "source": [
    "# Check if everything is downloaded correctly\n",
    "import numpy as np\n",
    "import matplotlib.pyplot as plt\n",
    "import torch\n",
    "from torch import nn\n",
    "from torchvision import datasets\n",
    "from tqdm import tqdm\n",
    "\n",
    "print(\"Loaded all libraries successfully!\")"
   ],
   "metadata": {
    "colab": {
     "base_uri": "https://localhost:8080/"
    },
    "id": "MVdvomIFxqYS",
    "outputId": "c6d5fb26-7801-4755-8660-1e6f7e0b688d"
   }
  },
  {
   "cell_type": "code",
   "execution_count": 3,
   "outputs": [
    {
     "output_type": "stream",
     "name": "stdout",
     "text": [
      "Running on:  cuda\n"
     ]
    }
   ],
   "source": [
    "# If there is a GPU available, using it will significantly speed up the training process.\n",
    "DEVICE = 'cuda' if torch.cuda.is_available() else 'cpu'\n",
    "print(\"Running on: \", DEVICE)"
   ],
   "metadata": {
    "colab": {
     "base_uri": "https://localhost:8080/"
    },
    "id": "oq702w5DxqYS",
    "outputId": "14bffa36-7356-40a9-ff58-84b1174a9bb1"
   }
  },
  {
   "cell_type": "markdown",
   "source": [
    "## 4. Dataset Introduction and Preparation\n",
    "\n",
    "We will be using the [MNIST](https://pytorch.org/vision/main/generated/torchvision.datasets.MNIST.html) dataset throughout this notebook. This dataset is easily accessible through the torchvision library."
   ],
   "metadata": {
    "collapsed": false,
    "id": "0J23ptwrxqYS"
   }
  },
  {
   "cell_type": "code",
   "execution_count": 4,
   "outputs": [],
   "source": [
    "# Download the MNIST dataset.\n",
    "mnist_dataset = datasets.MNIST(root='./.data/mnist_data/', train=True, download=True)"
   ],
   "metadata": {
    "id": "68p7diE2xqYT"
   }
  },
  {
   "cell_type": "code",
   "execution_count": 5,
   "outputs": [
    {
     "output_type": "stream",
     "name": "stdout",
     "text": [
      "Dataset shape:  torch.Size([60000, 28, 28])\n"
     ]
    },
    {
     "output_type": "display_data",
     "data": {
      "text/plain": [
       "<Figure size 1200x300 with 4 Axes>"
      ],
      "image/png": "[encoded data removed]"
     },
     "metadata": {}
    }
   ],
   "source": [
    "# The training data consists of 60.000 samples, each of 28 by 28 pixels.\n",
    "print(\"Dataset shape: \", mnist_dataset.data.shape)\n",
    "\n",
    "def plot_5(batch):\n",
    "    indices = np.random.choice(batch.shape[0], size=4, replace=False)\n",
    "\n",
    "    fig, axes = plt.subplots(1, 4, figsize=(12, 3))\n",
    "\n",
    "    for i, idx in enumerate(indices):\n",
    "        image = batch[idx]\n",
    "        axes[i].imshow(image, cmap='gray')\n",
    "        axes[i].axis('off')\n",
    "\n",
    "    plt.show()\n",
    "\n",
    "plot_5(mnist_dataset.data)"
   ],
   "metadata": {
    "colab": {
     "base_uri": "https://localhost:8080/",
     "height": 257
    },
    "id": "imMAQXWGxqYT",
    "outputId": "abd4ed14-98e4-4212-9720-d5ee93ae870d"
   }
  },
  {
   "cell_type": "markdown",
   "source": [
    "### 4.1 Preprocessing\n",
    "\n",
    "Before we can use the MNIST dataset for training our GAN, we need to preprocess the images. This preprocessing involves three main steps: casting the images to floats, normalizing the images and reshaping them into 1D tensors.\n",
    "\n",
    "**Casting:** By default, the MNIST data consists of integers. Before we can normalize the data, we need to turn the datatype into floats.\n",
    "\n",
    "**Normalization:** The pixel intensities in the MNIST images are originally in the range of 0 to 255. We normalize these intensities to be in the range [-1, 1]. Normalization helps to stabilize the training process and makes the output of the generator easier to interpret.\n",
    "\n",
    "**Reshaping:** Since we are going to use a simple GAN with multi-layer perceptrons, we need to flatten each image, which is originally a 2D tensor (28x28), into a 1D tensor (of size 784). This is because multi-layer perceptrons accept input data in a flat, vectorized form."
   ],
   "metadata": {
    "collapsed": false,
    "id": "DkIZgLRSxqYT"
   }
  },
  {
   "cell_type": "code",
   "execution_count": 6,
   "outputs": [
    {
     "output_type": "stream",
     "name": "stdout",
     "text": [
      "Example of batch:\n",
      "tensor([[-1., -1., -1.,  ..., -1., -1., -1.],\n",
      "        [-1., -1., -1.,  ..., -1., -1., -1.],\n",
      "        [-1., -1., -1.,  ..., -1., -1., -1.],\n",
      "        ...,\n",
      "        [-1., -1., -1.,  ..., -1., -1., -1.],\n",
      "        [-1., -1., -1.,  ..., -1., -1., -1.],\n",
      "        [-1., -1., -1.,  ..., -1., -1., -1.]])\n",
      "\n",
      "Feature space size:\n",
      "784\n"
     ]
    }
   ],
   "source": [
    "def preprocess_dataset(dataset):\n",
    "    # Casting\n",
    "    dataset = dataset.float()\n",
    "\n",
    "    # Normalization\n",
    "    dataset = ((dataset / 255) * 2) - 1\n",
    "\n",
    "    # Reshaping\n",
    "    dataset = dataset.reshape(dataset.shape[0], -1)\n",
    "\n",
    "    return dataset\n",
    "\n",
    "preprocessed_dataset = preprocess_dataset(mnist_dataset.data)\n",
    "feature_dim = preprocessed_dataset.shape[-1]\n",
    "\n",
    "print(\"Example of batch:\")\n",
    "print(preprocessed_dataset)\n",
    "\n",
    "print(\"\\nFeature space size:\")\n",
    "print(feature_dim)"
   ],
   "metadata": {
    "colab": {
     "base_uri": "https://localhost:8080/"
    },
    "id": "pKsv1OjKxqYT",
    "outputId": "19e11090-7714-41f2-d236-a83166c4bc07"
   }
  },
  {
   "cell_type": "markdown",
   "source": [
    "### Initializing a dataloader\n",
    "\n",
    "Now that the data is preprocessed, it can be loaded into a dataloader for easy retrieval. To initialize a dataloader, we will need to provide a batch size. For now, lets use a batch size of $128$"
   ],
   "metadata": {
    "collapsed": false,
    "id": "sv7RJPuAxqYT"
   }
  },
  {
   "cell_type": "code",
   "execution_count": 7,
   "outputs": [],
   "source": [
    "from torch.utils.data import DataLoader\n",
    "\n",
    "batch_size = 128\n",
    "dataloader = DataLoader(dataset=preprocessed_dataset, batch_size=batch_size, shuffle=True, drop_last=True)"
   ],
   "metadata": {
    "id": "8KBgwELOxqYU"
   }
  },
  {
   "cell_type": "markdown",
   "source": [
    "## 5. Implementing a Basic GAN <a class='anchor' id='section5'></a>\n",
    "\n",
    "Having prepared our dataset, we're now ready to implement a basic GAN. In this section, we will define the generator and discriminator networks using [multi-layer perceptrons](https://www.wikiwand.com/en/Multilayer_perceptron). Each network will be implemented as a separate Python class using PyTorch, a popular deep learning library."
   ],
   "metadata": {
    "collapsed": false,
    "id": "nNd-6Z-gxqYU"
   }
  },
  {
   "cell_type": "markdown",
   "source": [
    "### 5.1 Defining the Generator\n",
    "\n",
    "The generator network takes as input a random noise vector (latent vector) and transforms it into a 1D tensor that resembles our flattened MNIST images. The generator network typically includes several fully connected layers, and we'll use the [LeakyReLU](https://pytorch.org/docs/stable/generated/torch.nn.LeakyReLU.html) activation function for all layers except for the last one, where we'll use the [Tanh](https://pytorch.org/docs/stable/generated/torch.nn.Tanh.html) function to output values in the range [-1, 1], matching our normalized MNIST images."
   ],
   "metadata": {
    "collapsed": false,
    "id": "MLaEGI0vxqYU"
   }
  },
  {
   "cell_type": "code",
   "execution_count": 8,
   "outputs": [],
   "source": [
    "from torch import Tensor\n",
    "\n",
    "\n",
    "class Generator(nn.Module):\n",
    "    \"\"\"\n",
    "    A basic implementation for a generator network.\n",
    "\n",
    "    This generator implementation uses a standard multi-layer perceptron (MLP).\n",
    "    \"\"\"\n",
    "\n",
    "    def __init__(\n",
    "            self,\n",
    "            input_size: int,\n",
    "            output_size: int,\n",
    "            dropout: float,\n",
    "            leaky_relu_slope: float,\n",
    "    ):\n",
    "        \"\"\"\n",
    "        The initialization function for the generator.\n",
    "\n",
    "        :param input_size:          The input size of the generator. This should be equal to the size of the random prior.\n",
    "        :param output_size:         The output size of the generator. This should be equal to the size of the feature space.\n",
    "        :param dropout:             The dropout rate.\n",
    "        :param leaky_relu_slope:    The slope of the leaky ReLU activation function.\n",
    "        \"\"\"\n",
    "        super().__init__()\n",
    "\n",
    "        # Initialize the sequential multi-layer perceptron model using the given parameters.\n",
    "        self.sequential_model = nn.Sequential(\n",
    "            nn.Linear(in_features=input_size, out_features=256),\n",
    "            nn.Dropout(p=dropout, inplace=True),\n",
    "            nn.LeakyReLU(negative_slope=leaky_relu_slope, inplace=True),\n",
    "\n",
    "            nn.Linear(in_features=256, out_features=512),\n",
    "            nn.Dropout(p=dropout, inplace=True),\n",
    "            nn.LeakyReLU(negative_slope=leaky_relu_slope, inplace=True),\n",
    "\n",
    "            nn.Linear(in_features=512, out_features=1024),\n",
    "            nn.Dropout(p=dropout, inplace=True),\n",
    "            nn.LeakyReLU(negative_slope=leaky_relu_slope, inplace=True),\n",
    "\n",
    "            nn.Linear(in_features=1024, out_features=output_size),\n",
    "            # Final Tanh activation function to force all outputs to be in the range [-1, 1]\n",
    "            nn.Tanh()\n",
    "        )\n",
    "\n",
    "    def forward(self, batch: Tensor) -> Tensor:\n",
    "        \"\"\"\n",
    "        A function that generates fake samples for a batch of priors.\n",
    "\n",
    "        :param batch:   A batch of priors (random tensors).\n",
    "        :return:        A batch of fake samples.\n",
    "        \"\"\"\n",
    "        return self.sequential_model(batch)"
   ],
   "metadata": {
    "id": "D37W9olzxqYU"
   }
  },
  {
   "cell_type": "markdown",
   "source": [
    "### 5.2 Defining the Discriminator\n",
    "\n",
    "The discriminator network takes as input a 1D tensor that could either be a real MNIST image or a fake image produced by the generator. It outputs a single scalar between 0 and 1, representing its confidence that the image is real. The discriminator network also typically includes several fully connected layers. We'll use the [LeakyReLU](https://pytorch.org/docs/stable/generated/torch.nn.LeakyReLU.html) activation function for these layers, and the [Sigmoid](https://pytorch.org/docs/stable/generated/torch.nn.Sigmoid.html) function for the last layer to output a probability."
   ],
   "metadata": {
    "collapsed": false,
    "id": "bPwNCW1oxqYU"
   }
  },
  {
   "cell_type": "code",
   "execution_count": 9,
   "outputs": [],
   "source": [
    "class Discriminator(nn.Module):\n",
    "    \"\"\"\n",
    "    A basic implementation for a discriminator network.\n",
    "\n",
    "    This discriminator implementation uses a standard multi-layer perceptron (MLP).\n",
    "    \"\"\"\n",
    "\n",
    "    def __init__(\n",
    "            self,\n",
    "            input_size: int,\n",
    "            dropout: float,\n",
    "            leaky_relu_slope: float\n",
    "    ):\n",
    "        \"\"\"\n",
    "        The initialization function for the discriminator.\n",
    "\n",
    "        :param input_size:              The input size of the discriminator. This should be equal to the size of the feature space.\n",
    "        :param dropout:                 The dropout rate.\n",
    "        :param leaky_relu_slope:        The slope of the leaky ReLU activation function.\n",
    "        \"\"\"\n",
    "        super().__init__()\n",
    "\n",
    "        # Initialize the sequential multi-layer perceptron model using the given parameters.\n",
    "        self.sequential_model = nn.Sequential(\n",
    "            nn.Linear(in_features=input_size, out_features=128),\n",
    "            nn.Dropout(p=dropout, inplace=True),\n",
    "            nn.LeakyReLU(negative_slope=leaky_relu_slope, inplace=True),\n",
    "\n",
    "            nn.Linear(in_features=128, out_features=128),\n",
    "            nn.Dropout(p=dropout, inplace=True),\n",
    "            nn.LeakyReLU(negative_slope=leaky_relu_slope, inplace=True),\n",
    "\n",
    "            nn.Linear(in_features=128, out_features=1)\n",
    "        )\n",
    "\n",
    "    def forward(self, batch: Tensor) -> Tensor:\n",
    "        \"\"\"\n",
    "        A function that computes the output of the discriminator for one batch of data.\n",
    "\n",
    "        :param batch:       The batch (2d Tensor) to compute the output for\n",
    "        :return:            The output (2d Tensor)\n",
    "        \"\"\"\n",
    "        return torch.sigmoid(self.sequential_model(batch))"
   ],
   "metadata": {
    "id": "WFn-VaQoxqYU"
   }
  },
  {
   "cell_type": "markdown",
   "source": [
    "## 6. Training the GAN <a class='anchor' id='section6'></a>\n",
    "\n",
    "Now that we have implemented our basic GAN, the next step is to train it. Training a GAN involves an iterative process where the generator and discriminator improve together over time.\n",
    "\n",
    "### 6.1 Training Procedure\n",
    "\n",
    "The training procedure for a GAN generally follows these steps:\n",
    "\n",
    "1. **Train the Discriminator:** First, we train the discriminator by feeding it a batch of real images from the MNIST dataset and a batch of fake images generated by the generator. We calculate the loss for each and backpropagate to update the discriminator's weights.\n",
    "\n",
    "2. **Train the Generator:** Next, we train the generator. We generate a batch of fake images and pass them through the discriminator. However, this time we calculate the loss based on how well the generator was able to \"fool\" the discriminator - that is, how many fake images were classified by the discriminator as real. We backpropagate this loss to update the generator's weights.\n",
    "\n",
    "3. **Repeat:** We repeat these steps for a number of epochs, alternating between training the discriminator and the generator."
   ],
   "metadata": {
    "collapsed": false,
    "id": "cRKPMuD2xqYU"
   }
  },
  {
   "cell_type": "markdown",
   "source": [
    "## 6.2 Training the Discriminator\n",
    "\n",
    "The discriminator's job is to get better at distinguishing between real and fake data. During the training of the discriminator, we keep the weights of the generator constant.\n",
    "\n",
    "Here are the steps involved:\n",
    "\n",
    "1. **Classify Real Data:** We first pass a batch of real data from the MNIST dataset through the discriminator. We compare the output of the discriminator (probability that the data is real) to an array of ones (since the data is indeed real).\n",
    "\n",
    "2. **Generate and Classify Fake Data:** Next, the generator creates a batch of fake data from random noise vectors. The discriminator then classifies this fake data. This time, we compare the discriminator's output to an array of zeros (since the data is fake).\n",
    "\n",
    "3. **Compute Loss:** We compute two losses: one for the real data and one for the fake data, and we add them together. This combined loss represents the discriminator's ability to correctly classify both real and fake data.\n",
    "\n",
    "4. **Backpropagate:** We compute the gradients and backpropagate them through the discriminator network.\n",
    "\n",
    "5. **Update Discriminator's Weights:** Using these gradients and the learning rate, we update the discriminator's weights.\n",
    "\n",
    "By following these steps, the discriminator learns to more accurately distinguish between real and fake data. We typically use an optimization algorithm like Adam for this step."
   ],
   "metadata": {
    "collapsed": false,
    "id": "Td-L589qxqYV"
   }
  },
  {
   "cell_type": "code",
   "execution_count": 10,
   "outputs": [],
   "source": [
    "from torch.optim import Optimizer\n",
    "from typing import Callable\n",
    "\n",
    "\n",
    "def train_discriminator(\n",
    "        generator: nn.Module,\n",
    "        discriminator: nn.Module,\n",
    "        batch_of_real_data: Tensor,\n",
    "        discriminator_optimizer: Optimizer,\n",
    "        prior_generation_function: Callable[[int, int], Tensor],\n",
    "    ) -> float:\n",
    "    \"\"\"\n",
    "    A function that trains the discriminator for one batch of data.\n",
    "\n",
    "    :return:        The discriminator loss.\n",
    "    \"\"\"\n",
    "    # Reset gradients of discriminator optimizer\n",
    "    discriminator_optimizer.zero_grad()\n",
    "\n",
    "    # 1. Get batch of data, and discriminate that data.\n",
    "    discriminator_output_real = discriminator(batch_of_real_data)\n",
    "\n",
    "    # 2. Generate prior, generate samples using that prior, and then discriminate the generated samples\n",
    "    prior = prior_generation_function(batch_size, prior_size).to(DEVICE)\n",
    "    generator_output = generator(prior)\n",
    "    discriminator_output_fake = discriminator(generator_output)\n",
    "\n",
    "    # 3. Compute total loss\n",
    "    discriminator_loss = nn.BCELoss()(discriminator_output_real, torch.full_like(discriminator_output_real, 1)) + \\\n",
    "                         nn.BCELoss()(discriminator_output_fake, torch.full_like(discriminator_output_fake, 0))\n",
    "\n",
    "    # 4, 5. Back propagate loss and update weights\n",
    "    discriminator_loss.backward()\n",
    "    discriminator_optimizer.step()\n",
    "\n",
    "    # Return loss\n",
    "    return discriminator_loss.data.item()"
   ],
   "metadata": {
    "id": "WIWxkSoJxqYV"
   }
  },
  {
   "cell_type": "markdown",
   "source": [
    "## 6.3 Training the Generator\n",
    "\n",
    "The training goal of the generator is to generate data that the discriminator will incorrectly classify as real. During the training of the generator, we keep the weights of the discriminator constant.\n",
    "\n",
    "Here is the step-by-step procedure:\n",
    "\n",
    "1. **Generate a Prior:** Generate random noise vectors (priors) that can be used to generate the fake data.\n",
    "\n",
    "2. **Generate Fake Data:** The generator creates a batch of fake data from random noise vectors.\n",
    "\n",
    "3. **Classify Fake Data:** The discriminator classifies the fake data. We want the discriminator to believe that this data is real, so we compare the discriminator's output to an array of ones.\n",
    "\n",
    "4. **Compute Loss:** We calculate the loss for the generator based on how well it was able to fool the discriminator. The generator's goal is to minimize this loss.\n",
    "\n",
    "5. **Backpropagate:** The gradients are computed and backpropagated through the generator network.\n",
    "\n",
    "6. **Update Generator's Weights:** The generator's weights are then updated using these gradients and the learning rate. Again, we typically use an optimization algorithm like Adam for this step.\n"
   ],
   "metadata": {
    "collapsed": false,
    "id": "wq6idj53xqYV"
   }
  },
  {
   "cell_type": "code",
   "execution_count": 11,
   "outputs": [],
   "source": [
    "def train_generator(\n",
    "        generator: nn.Module,\n",
    "        discriminator: nn.Module,\n",
    "        generator_optimizer: Optimizer,\n",
    "        prior_generation_function: Callable[[int, int], Tensor],\n",
    "    ) -> float:\n",
    "    \"\"\"\n",
    "    A function that trains the generator for one batch of data.\n",
    "\n",
    "    :return:        The generator loss.\n",
    "    \"\"\"\n",
    "    # Reset gradients of generator optimizer\n",
    "    generator_optimizer.zero_grad()\n",
    "\n",
    "    # 1. Generate prior\n",
    "    prior: Tensor = prior_generation_function(batch_size, prior_size).to(DEVICE)\n",
    "\n",
    "    # 2, 3. Generate and discriminate data points\n",
    "    generator_output: Tensor = generator(prior)\n",
    "    discriminator_output: Tensor = discriminator(generator_output)\n",
    "\n",
    "    # 4. Calculate the loss\n",
    "    generator_loss: Tensor = nn.BCELoss()(discriminator_output, torch.full_like(discriminator_output, 1))\n",
    "\n",
    "    # 5, 6. Back propagate and update weights\n",
    "    generator_loss.backward()\n",
    "    generator_optimizer.step()\n",
    "\n",
    "    # Return loss\n",
    "    return generator_loss.data.item()"
   ],
   "metadata": {
    "id": "SN512q_BxqYV"
   }
  },
  {
   "cell_type": "markdown",
   "source": [
    "## 6.4 The Training Loop\n",
    "\n",
    "Having described the steps to train the generator and the discriminator, we can now combine these into a complete training loop.\n",
    "\n",
    "First we need to set a couple of hyperparameters, define the optimizers for our generator and discriminator, and intialize 2 empty lists to keep track of our generator and discriminator losses."
   ],
   "metadata": {
    "collapsed": false,
    "id": "4HGP3qZSxqYV"
   }
  },
  {
   "cell_type": "code",
   "execution_count": 12,
   "outputs": [],
   "source": [
    "# Setting hyperparameters\n",
    "n_epochs = 100000           # The number of epochs we want to run for\n",
    "n_discriminator = 1         # The number of iterations to run our discriminator for each epoch\n",
    "n_generator = 1             # The number of iterations to run our generator for each epoch\n",
    "learning_rate = 0.00005     # The learning rate for our optimizers\n",
    "\n",
    "prior_size = 100\n",
    "dropout = 0.2\n",
    "leaky_relu_slope = 0.2\n",
    "\n",
    "generator_instance = Generator(prior_size, feature_dim, dropout, leaky_relu_slope).to(DEVICE)\n",
    "discriminator_instance = Discriminator(feature_dim, dropout, leaky_relu_slope).to(DEVICE)\n",
    "\n",
    "generator_optimizer_instance = torch.optim.Adam(generator_instance.parameters(), lr=learning_rate)\n",
    "discriminator_optimizer_instance = torch.optim.Adam(discriminator_instance.parameters(), lr=learning_rate)\n",
    "\n",
    "d_losses = []\n",
    "g_losses = []"
   ],
   "metadata": {
    "id": "Kdm3ufAqxqYW"
   }
  },
  {
   "cell_type": "markdown",
   "source": [
    "As we have not yet defined how we are going to generate our random noise priors, we need to do that now. Usually, noise priors are simply generated from a [standard normal distribution](https://www.wikiwand.com/en/Normal_distribution), which we can easily do with `torch.randn()`."
   ],
   "metadata": {
    "collapsed": false,
    "id": "PTglKp2wxqYW"
   }
  },
  {
   "cell_type": "code",
   "execution_count": 13,
   "outputs": [],
   "source": [
    "def generate_2d_normal_prior(n_to_generate: int, p_size: int) -> Tensor:\n",
    "    \"\"\"\n",
    "    :param n_to_generate:   The number of priors to generate.\n",
    "    :param p_size:          The size of each prior.\n",
    "    :return:                A batch of random priors of shape (n_to_generate, p_size)\n",
    "    \"\"\"\n",
    "    return torch.randn(n_to_generate, p_size)"
   ],
   "metadata": {
    "id": "HGvnFhc_xqYW"
   }
  },
  {
   "cell_type": "markdown",
   "source": [
    "In addition, it is nice to have easily accessible batches without constantly having to re-instantiate a loop over the dataloader. We can define the following simple function which allows us to infinitely call `next(data_iterator)` to receive a new batch of data."
   ],
   "metadata": {
    "collapsed": false,
    "id": "gT1bQmlKxqYW"
   }
  },
  {
   "cell_type": "code",
   "execution_count": 14,
   "outputs": [],
   "source": [
    "from typing import Iterator\n",
    "\n",
    "def inf_batches(dataloader_to_loop) -> Iterator[Tensor]:\n",
    "    \"\"\" A function that returns an iterator (generator) object for batches of data. \"\"\"\n",
    "    while True:\n",
    "        for batch_of_real_data in dataloader_to_loop:\n",
    "            yield batch_of_real_data.to(DEVICE)\n",
    "\n",
    "data_iterator = inf_batches(dataloader)"
   ],
   "metadata": {
    "id": "PjXfGMn3xqYW"
   }
  },
  {
   "cell_type": "markdown",
   "source": [
    "**Now lets finally define our training loop.** Running the loop for 100.000 epochs with all the preset parameters takes about 15 minutes on a Google Colab with a GPU runtime environment enabled. \n",
    "\n",
    "\n",
    "\n"
   ],
   "metadata": {
    "collapsed": false,
    "id": "zspx5IB1xqYW"
   }
  },
  {
   "cell_type": "code",
   "execution_count": 15,
   "outputs": [
    {
     "output_type": "stream",
     "name": "stderr",
     "text": [
      "[14:04<00:00,118.38it/s]100%|██████████[100000/100000]: Generator loss: 0.756, Discriminator loss: 1.381\n"
     ]
    }
   ],
   "source": [
    "TQDM_BAR_FORMAT = '[{elapsed}<{remaining},{rate_fmt}{postfix}]{percentage:3.0f}%|{bar:10}{desc}'\n",
    "\n",
    "generator_instance.train()\n",
    "discriminator_instance.train()\n",
    "\n",
    "# Loop for n_epochs\n",
    "for epoch in (pbar := tqdm(range(1, n_epochs + 1), bar_format=TQDM_BAR_FORMAT, position=0, leave=True)):\n",
    "    d_losses_epoch, g_losses_epoch = [], []\n",
    "\n",
    "    # Train generator for n_generator iterations\n",
    "    for _ in range(n_generator):\n",
    "        g_losses_epoch.append(train_generator(generator_instance, discriminator_instance,\n",
    "                                              generator_optimizer_instance, generate_2d_normal_prior))\n",
    "\n",
    "    # Train discriminator for n_discriminator iterations\n",
    "    for _ in range(n_discriminator):\n",
    "        batch_of_data = next(data_iterator)\n",
    "        d_losses_epoch.append(train_discriminator(generator_instance, discriminator_instance, batch_of_data,\n",
    "                                                  discriminator_optimizer_instance, generate_2d_normal_prior))\n",
    "\n",
    "    # Store and log losses\n",
    "    d_losses.append(float(torch.mean(torch.FloatTensor(d_losses_epoch))))\n",
    "    g_losses.append(float(torch.mean(torch.FloatTensor(g_losses_epoch))))\n",
    "\n",
    "    if epoch % 200 == 0:\n",
    "        pbar.set_description_str('[%d/%d]: Generator loss: %.3f, Discriminator loss: %.3f' %\n",
    "                                (epoch, n_epochs, float(g_losses[-1]), float(d_losses[-1])))"
   ],
   "metadata": {
    "colab": {
     "base_uri": "https://localhost:8080/"
    },
    "id": "cM9LBMh6xqYW",
    "outputId": "735cd656-033a-4343-fbdb-5a6cae53952e"
   }
  },
  {
   "cell_type": "markdown",
   "source": [
    "## 6.5 Evaluate the Performance\n",
    "\n",
    "We can evaluate the performance of GANs in many ways:\n",
    "1. **Losses**: We can look at the training losses. Unfortunately, it is very hard to interpret the progression of the training losses and it is not always indicative of good/bad fitting models.\n",
    "2. **Inspecting synthetic points**: We can use the generator to generate several fake samples, and visualize those samples to see if the model is training properly.\n",
    "3. **Metrics**: There is an entire research stream within GAN research that focuses on finding the best metrics."
   ],
   "metadata": {
    "collapsed": false,
    "id": "F_lA0oT4xqYX"
   }
  },
  {
   "cell_type": "code",
   "execution_count": 16,
   "outputs": [
    {
     "output_type": "execute_result",
     "data": {
      "text/plain": [
       "<matplotlib.legend.Legend at 0x7fba618d6c80>"
      ]
     },
     "metadata": {},
     "execution_count": 16
    },
    {
     "output_type": "display_data",
     "data": {
      "text/plain": [
       "<Figure size 640x480 with 1 Axes>"
      ],
      "image/png": "[encoded data removed]"
     },
     "metadata": {}
    }
   ],
   "source": [
    "# 1. Plot loss graphs\n",
    "plt.plot(g_losses, label=\"generator loss\")\n",
    "plt.plot(d_losses, label=\"discriminator loss\")\n",
    "plt.legend()"
   ],
   "metadata": {
    "colab": {
     "base_uri": "https://localhost:8080/",
     "height": 448
    },
    "id": "3K7q0_PHxqYX",
    "outputId": "b5d34665-b491-46cd-e776-8b483a078810"
   }
  },
  {
   "cell_type": "code",
   "execution_count": 17,
   "outputs": [],
   "source": [
    "# 2. Visualize synthetic samples\n",
    "# 2.1 Generate synthetic samples\n",
    "number_of_samples_to_generate = 50\n",
    "\n",
    "def generate_n_samples(n_to_generate, generator, prior_generation_function):\n",
    "    with torch.no_grad():\n",
    "        # Generate prior\n",
    "        prior: Tensor = prior_generation_function(n_to_generate, prior_size).to(DEVICE)\n",
    "\n",
    "        # Generate samples\n",
    "        generator_output = generator(prior)\n",
    "\n",
    "    # Return samples\n",
    "    return generator_output\n",
    "\n",
    "synthetic_samples = generate_n_samples(number_of_samples_to_generate, generator_instance, generate_2d_normal_prior).cpu()\\\n",
    "    .reshape(number_of_samples_to_generate, 28, 28)"
   ],
   "metadata": {
    "id": "Kd4pLfq5xqYX"
   }
  },
  {
   "cell_type": "code",
   "execution_count": 22,
   "outputs": [
    {
     "output_type": "display_data",
     "data": {
      "text/plain": [
       "<Figure size 1200x300 with 4 Axes>"
      ],
      "image/png": "[encoded data removed]"
     },
     "metadata": {}
    }
   ],
   "source": [
    "plot_5(synthetic_samples)"
   ],
   "metadata": {
    "colab": {
     "base_uri": "https://localhost:8080/",
     "height": 239
    },
    "id": "QZdXj6eYxqYX",
    "outputId": "0df09450-1f11-451f-ff7c-6f48094471d3"
   }
  },
  {
   "cell_type": "markdown",
   "source": [
    "## 7. Limitations of GANs\n",
    "\n",
    "While GANs are powerful tools for generating realistic synthetic data, they do come with their own set of limitations. Understanding these limitations can help in effectively applying GANs and in pursuing future research directions. Here are a few key ones:\n",
    "\n",
    "1. **Mode Collapse:** This happens when the generator starts producing the same output (or minor variations) over and over again, instead of generating diverse samples. It's a common issue in GAN training due to the dynamic nature of the adversarial process ([read more](https://machinelearning.wtf/terms/mode-collapse/)).\n",
    "\n",
    "2. **Training Stability:** GANs are notoriously hard to train. The simultaneous training of two networks (generator and discriminator) in an adversarial setup leads to a highly dynamic and unstable process. The networks may oscillate, and it might take a while to reach an equilibrium.\n",
    "\n",
    "3. **Lack of Explicit Control:** In a basic GAN setup, there's no way to control the kind of output the generator produces. It may be possible to guide the generation process by conditioning the generator with additional information, but this requires modifications to the basic GAN architecture.\n",
    "\n",
    "4. **Evaluation Difficulty:** It's challenging to measure the quality and diversity of the samples generated by GANs. Commonly used metrics, like Inception Score and Frechet Inception Distance, have their own limitations and biases."
   ],
   "metadata": {
    "collapsed": false,
    "id": "wCG0TWimxqYX"
   }
  },
  {
   "cell_type": "markdown",
   "source": [
    "## 8. Summary and Conclusion\n",
    "\n",
    "\n",
    "In this notebook, we've explored the fascinating world of Generative Adversarial Networks (GANs). We've learned about the theory of GANs, their unique adversarial setup, and how they can generate new, realistic data. We've also implemented a simple GAN using the PyTorch library and trained it on the MNIST dataset.\n",
    "\n",
    "Here are the key takeaways from our exploration:\n",
    "\n",
    "1. **GAN Structure:** A GAN consists of two neural networks – a generator and a discriminator – that are trained together. The generator creates synthetic data, and the discriminator evaluates the authenticity of this data.\n",
    "\n",
    "2. **Training Process:** The training involves an iterative process, alternating between training the generator to produce more realistic data and training the discriminator to better distinguish between real and fake data.\n",
    "\n",
    "3. **MNIST Dataset:** We used the MNIST dataset for our GAN training. The dataset was preprocessed, including normalization and reshaping of the images, before being used for training.\n",
    "\n",
    "4. **GAN Limitations:** While GANs are powerful, they have their limitations, including mode collapse, training stability, lack of control over the output, and evaluation difficulty.\n",
    "\n",
    "Looking ahead, there's still much to explore with GANs. Advanced variations of GANs have been developed to address some of their limitations and to extend their capabilities. These include Conditional GANs, Wasserstein GANs, CycleGANs, and more. These advanced GANs have been used for tasks such as image-to-image translation, super-resolution, and even generating art!\n",
    "\n",
    "GANs represent a vibrant area of research in AI. We continue to improve their stability, control, and diversity!"
   ],
   "metadata": {
    "collapsed": false,
    "id": "moeGalNIxqYY"
   }
  },
  {
   "cell_type": "markdown",
   "source": [
    "## 9. Exercises and Challenges\n",
    "\n",
    "To further deepen your understanding of GANs, we recommend the following exercises and challenges. These tasks will allow you to apply what you've learned in this notebook and explore more advanced GAN topics.\n",
    "\n",
    "1. **Modify the GAN Architecture:** Try modifying the architecture of the generator and discriminator. You could change the number of layers, the number of neurons in each layer, or the types of layers used (e.g., introducing convolutional layers).\n",
    "\n",
    "2. **Read the original GAN paper:** If you have never done so, now is a great time to read the [original GAN paper](https://papers.nips.cc/paper_files/paper/2014/hash/5ca3e9b122f61f8f06494c97b1afccf3-Abstract.html). You now have a good intuition of how GANs work, so getting through the paper that originally introduced them should be much easier now!\n",
    "\n",
    "3. **Change the Dataset:** Train the GAN on a different dataset. You could use another standard dataset such as CIFAR-10, or you could even try a custom dataset of your own!\n",
    "\n",
    "4. **Implement a Different Type of GAN:** Try implementing a more advanced type of GAN. These GANs offer additional features and capabilities beyond the basic GAN implemented in this notebook. Types of GANs you can consider implementing:\n",
    "    - [Deep Convolutional GAN (DCGAN)](https://arxiv.org/abs/1511.06434): Drastically improves the quality of GANs for image generation by using convolutional layers.\n",
    "    - [Conditional GAN (CGAN)](https://arxiv.org/abs/1411.1784): CGAN allows you to choose what class of sample to generate (i.e. I want to generate a 5).\n",
    "    - [Wasserstein GAN (WGAN)](https://arxiv.org/abs/1701.07875): More technical paper which goes into decreasing the chance of mode-collapse by using a different loss function. The implementation change is only 10 lines of code.\n",
    "    - [CycleGAN](https://arxiv.org/pdf/1703.10593.pdf): A highly successful paper introducing GANs for image-to-image translation tasks. Just look at the images in the paper to see all that is possible!\n",
    "\n",
    "5. **GAN Evaluation:** Investigate different ways to evaluate the performance of your GAN. Do some research online and see what methods people use to evaluate their GANs.\n",
    "\n",
    "Remember, the best way to learn is by doing. Good luck with your GAN journey!"
   ],
   "metadata": {
    "collapsed": false,
    "id": "8KAbibk6xqYY"
   }
  }
 ],
 "metadata": {
  "kernelspec": {
   "display_name": "Python 3",
   "language": "python",
   "name": "python3"
  },
  "language_info": {
   "codemirror_mode": {
    "name": "ipython",
    "version": 2
   },
   "file_extension": ".py",
   "mimetype": "text/x-python",
   "name": "python",
   "nbconvert_exporter": "python",
   "pygments_lexer": "ipython2",
   "version": "2.7.6"
  },
  "colab": {
   "provenance": [],
   "gpuType": "T4"
  },
  "accelerator": "GPU",
  "gpuClass": "standard"
 },
 "nbformat": 4,
 "nbformat_minor": 0
}
