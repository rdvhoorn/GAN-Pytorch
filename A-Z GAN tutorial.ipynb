{
 "cells": [
  {
   "cell_type": "markdown",
   "source": [
    "# Generative Adversarial Networks (GANs) - An A-Z tutorial\n",
    "\n",
    "## Table of Contents\n",
    "\n",
    "1. [Introduction](#introduction)\n",
    "2. [Background and Theory](#section2)\n",
    "3. [Setting up the Environment](#section3)\n",
    "4. [Dataset Introduction and Preparation](#section4)\n",
    "5. [Implementing a Basic GAN](#section5)\n",
    "6. [Training the GAN](#section6)\n",
    "7. [Limitations of GANs](#section7)\n",
    "8. [Summary and Conclusion](#section8)\n",
    "9. [Exercises and Challenges](#section9)"
   ],
   "metadata": {
    "collapsed": false
   }
  },
  {
   "cell_type": "markdown",
   "source": [
    "## <a name='introduction'>Introduction</a>\n",
    "\n",
    "GANs are one of the most exciting advancements in machine learning in recent years. They have shown remarkable results in a variety of applications such as image synthesis, super-resolution, and image-to-image translation.\n",
    "\n",
    "This notebook aims to introduce you to the fundamental concepts of GANs, guide you through the necessary steps to grasp the GAN framework, and provide hands-on experience with the implementation of a GAN model. By the end of this guide, you will understand:\n",
    "\n",
    "- What GANs are and the theory behind them.\n",
    "- How to implement a basic GAN model.\n",
    "- How to train a GAN model.\n",
    "- The limitations and challenges of GANs.\n",
    "\n",
    "This guide is designed to be informative. It is to get you up to speed very quickly with how GANs work, not to challenge you to implement one yourself. This notebook covers the basics, but I encourage you to look at all the interesting follow-up work and see what is out there for yourself."
   ],
   "metadata": {
    "collapsed": false
   }
  },
  {
   "cell_type": "markdown",
   "source": [
    "## 2. Background and Theory <a class='anchor' id='section2'></a>\n",
    "\n",
    "GANs, short for Generative Adversarial Networks, are a class of machine learning frameworks introduced by [Ian Goodfellow and his colleagues in 2014](https://papers.nips.cc/paper_files/paper/2014/hash/5ca3e9b122f61f8f06494c97b1afccf3-Abstract.html). They are designed to generate new, synthetic instances of data that can pass for real, existing instances.\n",
    "\n",
    "### 2.1 Fundamental Concepts\n",
    "\n",
    "GANs consist of two parts:\n",
    "\n",
    "**Generator:** This is the \"counterfeiter,\" tasked with creating fake data. The generator takes random noise as input and generates data (e.g., an image) as output.\n",
    "\n",
    "**Discriminator:** This is the \"police,\" trying to distinguish the fake data from real data. It is a binary classifier that outputs the probability that the given input comes from the real dataset rather than the generator.\n",
    "\n",
    "### 2.2 Architecture of GANs\n",
    "\n",
    "The generator and discriminator are set up to play a two-player minimax game, in which the generator tries to fool the discriminator, and the discriminator tries to not get fooled. This process can be summarized as follows:\n",
    "\n",
    "1. The generator creates a batch of fake data.\n",
    "2. The fake data, along with real data, are given to the discriminator.\n",
    "3. The discriminator classifies the data as real or fake.\n",
    "4. Both the generator and discriminator learn from their mistakes and adjust for the next round.\n",
    "\n",
    "This adversarial process leads the generator to produce increasingly realistic data, while the discriminator becomes better at distinguishing fake data. Over time, the generator can produce data that's almost indistinguishable from the real data.\n",
    "\n",
    "### 2.3 Understanding the Loss Function\n",
    "\n",
    "The loss function of a GAN reflects the adversarial relationship between the generator and the discriminator. The generator aims to minimize this function, while the discriminator aims to maximize it. This is the essence of the minimax game played between the two.\n",
    "\n",
    "Mathematically, the value function $V$ for a simple GAN can be written as:\n",
    "\n",
    "$$\\min_G \\max_D V(D, G) = \\mathbb{E}_{x\\sim p_{data}(x)}[\\log D(x)] + \\mathbb{E}_{z\\sim p_z(z)}[\\log(1-D(G(z)))]$$\n",
    "\n",
    "where:\n",
    "- `G` is the generator function, which maps from the latent space to the feature (data) space.\n",
    "- `D` is the discriminator function, which outputs the probability that the data came from the real dataset.\n",
    "- `z` is a random prior, a point in the latent space, which is the input that the generator uses to generate a fake sample.\n",
    "- `x` is a point in the feature (data) space.\n",
    "\n",
    "The first term in the equation is the expectation of the log-probability that the discriminator correctly classifies a real instance as real. The second term is the expectation of the log-probability that the discriminator correctly classifies a fake (generated) instance as fake.\n",
    "\n",
    "As the generator's goal is to fool the discriminator, it tries to maximize the probability that the discriminator incorrectly classifies a fake instance as real, hence it aims to minimize `log(1 - D(G(z)))`. On the other hand, the discriminator tries to correctly classify both real and fake instances, hence it aims to maximize both `log(D(x))` and `log(1 - D(G(z)))`.\n",
    "\n",
    "In practice, the generator minimizes the negative of this loss function, which is equivalent to maximizing the probability that the discriminator incorrectly classifies a fake instance as real.\n",
    "\n",
    "Through this process, both the generator and the discriminator improve their ability to generate realistic data and distinguish between real and fake data, respectively."
   ],
   "metadata": {
    "collapsed": false
   }
  },
  {
   "cell_type": "markdown",
   "source": [
    "## 3. Setting up the Environment <a class='anchor' id='section3'></a>\n",
    "\n",
    "Now that you have a rough understanding of how GANs work, let's implement them. For the implementation, we need a couple of libraries."
   ],
   "metadata": {
    "collapsed": false
   }
  },
  {
   "cell_type": "code",
   "execution_count": 2,
   "outputs": [
    {
     "name": "stdout",
     "output_type": "stream",
     "text": [
      "Requirement already satisfied: numpy in c:\\users\\320205369\\documents\\code\\envs\\base-env\\lib\\site-packages (1.23.4)\n",
      "Requirement already satisfied: matplotlib in c:\\users\\320205369\\documents\\code\\envs\\base-env\\lib\\site-packages (3.6.2)\n",
      "Requirement already satisfied: torch in c:\\users\\320205369\\documents\\code\\envs\\base-env\\lib\\site-packages (1.13.0)\n",
      "Requirement already satisfied: torchvision in c:\\users\\320205369\\documents\\code\\envs\\base-env\\lib\\site-packages (0.14.0)\n",
      "Requirement already satisfied: tqdm in c:\\users\\320205369\\documents\\code\\envs\\base-env\\lib\\site-packages (4.64.1)\n",
      "Requirement already satisfied: fonttools>=4.22.0 in c:\\users\\320205369\\documents\\code\\envs\\base-env\\lib\\site-packages (from matplotlib) (4.38.0)\n",
      "Requirement already satisfied: packaging>=20.0 in c:\\users\\320205369\\documents\\code\\envs\\base-env\\lib\\site-packages (from matplotlib) (23.0)\n",
      "Requirement already satisfied: pillow>=6.2.0 in c:\\users\\320205369\\documents\\code\\envs\\base-env\\lib\\site-packages (from matplotlib) (9.3.0)\n",
      "Requirement already satisfied: contourpy>=1.0.1 in c:\\users\\320205369\\documents\\code\\envs\\base-env\\lib\\site-packages (from matplotlib) (1.0.6)\n",
      "Requirement already satisfied: python-dateutil>=2.7 in c:\\users\\320205369\\documents\\code\\envs\\base-env\\lib\\site-packages (from matplotlib) (2.8.2)\n",
      "Requirement already satisfied: cycler>=0.10 in c:\\users\\320205369\\documents\\code\\envs\\base-env\\lib\\site-packages (from matplotlib) (0.11.0)\n",
      "Requirement already satisfied: pyparsing>=2.2.1 in c:\\users\\320205369\\documents\\code\\envs\\base-env\\lib\\site-packages (from matplotlib) (3.0.9)\n",
      "Requirement already satisfied: kiwisolver>=1.0.1 in c:\\users\\320205369\\documents\\code\\envs\\base-env\\lib\\site-packages (from matplotlib) (1.4.4)\n",
      "Requirement already satisfied: typing-extensions in c:\\users\\320205369\\documents\\code\\envs\\base-env\\lib\\site-packages (from torch) (4.4.0)\n",
      "Requirement already satisfied: requests in c:\\users\\320205369\\documents\\code\\envs\\base-env\\lib\\site-packages (from torchvision) (2.28.1)\n",
      "Requirement already satisfied: colorama in c:\\users\\320205369\\documents\\code\\envs\\base-env\\lib\\site-packages (from tqdm) (0.4.6)\n",
      "Requirement already satisfied: six>=1.5 in c:\\users\\320205369\\documents\\code\\envs\\base-env\\lib\\site-packages (from python-dateutil>=2.7->matplotlib) (1.16.0)\n",
      "Requirement already satisfied: urllib3<1.27,>=1.21.1 in c:\\users\\320205369\\documents\\code\\envs\\base-env\\lib\\site-packages (from requests->torchvision) (1.26.12)\n",
      "Requirement already satisfied: certifi>=2017.4.17 in c:\\users\\320205369\\documents\\code\\envs\\base-env\\lib\\site-packages (from requests->torchvision) (2022.12.7)\n",
      "Requirement already satisfied: charset-normalizer<3,>=2 in c:\\users\\320205369\\documents\\code\\envs\\base-env\\lib\\site-packages (from requests->torchvision) (2.1.1)\n",
      "Requirement already satisfied: idna<4,>=2.5 in c:\\users\\320205369\\documents\\code\\envs\\base-env\\lib\\site-packages (from requests->torchvision) (3.4)\n"
     ]
    }
   ],
   "source": [
    "!pip install numpy matplotlib torch torchvision tqdm"
   ],
   "metadata": {
    "collapsed": false
   }
  },
  {
   "cell_type": "code",
   "execution_count": 25,
   "outputs": [
    {
     "name": "stdout",
     "output_type": "stream",
     "text": [
      "Loaded all libraries successfully!\n"
     ]
    }
   ],
   "source": [
    "# Check if everything is downloaded correctly\n",
    "import numpy as np\n",
    "import matplotlib.pyplot as plt\n",
    "import torch\n",
    "from torch import nn\n",
    "from torchvision import datasets\n",
    "from tqdm import tqdm\n",
    "\n",
    "print(\"Loaded all libraries successfully!\")"
   ],
   "metadata": {
    "collapsed": false
   }
  },
  {
   "cell_type": "markdown",
   "source": [
    "## 4. Dataset Introduction and Preparation <a class='anchor' id='section4'></a>\n",
    "\n",
    "We will be using the MNIST dataset throughout this notebook. This dataset is easily accessible through the torchvision library."
   ],
   "metadata": {
    "collapsed": false
   }
  },
  {
   "cell_type": "code",
   "execution_count": 5,
   "outputs": [],
   "source": [
    "# Download the MNIST dataset.\n",
    "mnist_dataset = datasets.MNIST(root='./.data/mnist_data/', train=True, download=True)"
   ],
   "metadata": {
    "collapsed": false
   }
  },
  {
   "cell_type": "code",
   "execution_count": 16,
   "outputs": [
    {
     "name": "stdout",
     "output_type": "stream",
     "text": [
      "Dataset shape:  torch.Size([60000, 28, 28])\n"
     ]
    },
    {
     "data": {
      "text/plain": "<Figure size 1200x300 with 4 Axes>",
      "image/png": "[encoded data removed]"
     },
     "metadata": {},
     "output_type": "display_data"
    }
   ],
   "source": [
    "# The training data consists of 60.000 samples, each of 28 by 28 pixels.\n",
    "print(\"Dataset shape: \", mnist_dataset.data.shape)\n",
    "\n",
    "def plot_5(batch):\n",
    "    indices = np.random.choice(batch.shape[0], size=4, replace=False)\n",
    "\n",
    "    fig, axes = plt.subplots(1, 4, figsize=(12, 3))\n",
    "\n",
    "    for i, idx in enumerate(indices):\n",
    "        image = batch[idx]\n",
    "        axes[i].imshow(image, cmap='gray')\n",
    "        axes[i].axis('off')\n",
    "\n",
    "    plt.show()\n",
    "\n",
    "plot_5(mnist_dataset.data)"
   ],
   "metadata": {
    "collapsed": false
   }
  },
  {
   "cell_type": "markdown",
   "source": [
    "### 4.1 Preprocessing\n",
    "\n",
    "Before we can use the MNIST dataset for training our GAN, we need to preprocess the images. This preprocessing involves three main steps: casting the images to floats, normalizing the images and reshaping them into 1D tensors.\n",
    "\n",
    "**Casting:** By default, the MNIST data consists of integers. Before we can normalize the data, we need to turn the datatype into floats.\n",
    "\n",
    "**Normalization:** The pixel intensities in the MNIST images are originally in the range of 0 to 255. We normalize these intensities to be in the range [-1, 1]. Normalization helps to stabilize the training process and makes the output of the generator easier to interpret.\n",
    "\n",
    "**Reshaping:** Since we are going to use a simple GAN with multi-layer perceptrons, we need to flatten each image, which is originally a 2D tensor (28x28), into a 1D tensor (of size 784). This is because multi-layer perceptrons accept input data in a flat, vectorized form."
   ],
   "metadata": {
    "collapsed": false
   }
  },
  {
   "cell_type": "code",
   "execution_count": 26,
   "outputs": [
    {
     "name": "stdout",
     "output_type": "stream",
     "text": [
      "Example of batch:\n",
      "tensor([[-1., -1., -1.,  ..., -1., -1., -1.],\n",
      "        [-1., -1., -1.,  ..., -1., -1., -1.],\n",
      "        [-1., -1., -1.,  ..., -1., -1., -1.],\n",
      "        ...,\n",
      "        [-1., -1., -1.,  ..., -1., -1., -1.],\n",
      "        [-1., -1., -1.,  ..., -1., -1., -1.],\n",
      "        [-1., -1., -1.,  ..., -1., -1., -1.]])\n",
      "\n",
      "Feature space size:\n",
      "784\n"
     ]
    }
   ],
   "source": [
    "from torchvision.transforms import Normalize\n",
    "\n",
    "\n",
    "def preprocess_dataset(dataset):\n",
    "    # Casting\n",
    "    dataset = dataset.float()\n",
    "\n",
    "    # Normalization\n",
    "    dataset = Normalize(0.5, 0.5)(dataset)\n",
    "\n",
    "    # Reshaping\n",
    "    dataset = dataset.reshape(dataset.shape[0], -1)\n",
    "\n",
    "    return dataset\n",
    "\n",
    "preprocessed_dataset = preprocess_dataset(mnist_dataset.data)\n",
    "feature_dim = preprocessed_dataset.shape[-1]\n",
    "\n",
    "print(\"Example of batch:\")\n",
    "print(preprocessed_dataset)\n",
    "\n",
    "print(\"\\nFeature space size:\")\n",
    "print(feature_dim)"
   ],
   "metadata": {
    "collapsed": false
   }
  },
  {
   "cell_type": "markdown",
   "source": [
    "### Initializing a dataloader\n",
    "\n",
    "Now that the data is preprocessed, it can be loaded into a dataloader for easy retrieval. To initialize a dataloader, we will need to provide a batch size. For now, lets use a batch size of $128$"
   ],
   "metadata": {
    "collapsed": false
   }
  },
  {
   "cell_type": "code",
   "execution_count": 23,
   "outputs": [],
   "source": [
    "from torch.utils.data import DataLoader\n",
    "\n",
    "batch_size = 128\n",
    "dataloader = DataLoader(dataset=preprocessed_dataset, batch_size=batch_size, shuffle=True, drop_last=True)"
   ],
   "metadata": {
    "collapsed": false
   }
  },
  {
   "cell_type": "markdown",
   "source": [
    "## 5. Implementing a Basic GAN <a class='anchor' id='section5'></a>\n",
    "\n",
    "Having prepared our dataset, we're now ready to implement a basic GAN. In this section, we will define the generator and discriminator networks using multi-layer perceptrons. Each network will be implemented as a separate Python class using PyTorch, a popular deep learning library."
   ],
   "metadata": {
    "collapsed": false
   }
  },
  {
   "cell_type": "markdown",
   "source": [
    "### 5.1 Defining the Generator\n",
    "\n",
    "The generator network takes as input a random noise vector (latent vector) and transforms it into a 1D tensor that resembles our flattened MNIST images. The generator network typically includes several fully connected layers, and we'll use the ReLU activation function for all layers except for the last one, where we'll use the Tanh function to output values in the range [-1, 1], matching our normalized MNIST images."
   ],
   "metadata": {
    "collapsed": false
   }
  },
  {
   "cell_type": "code",
   "execution_count": 27,
   "outputs": [],
   "source": [
    "from torch import Tensor\n",
    "\n",
    "\n",
    "class Generator(nn.Module):\n",
    "    \"\"\"\n",
    "    A basic implementation for a generator network.\n",
    "\n",
    "    This generator implementation uses a standard multi-layer perceptron (MLP).\n",
    "    \"\"\"\n",
    "\n",
    "    def __init__(\n",
    "            self,\n",
    "            input_size: int,\n",
    "            output_size: int,\n",
    "            dropout: float,\n",
    "            leaky_relu_slope: float,\n",
    "    ):\n",
    "        \"\"\"\n",
    "        The initialization function for the generator.\n",
    "\n",
    "        :param input_size:          The input size of the generator.\n",
    "                                        This should be equal to the size of the random prior.\n",
    "        :param output_size:         The output size of the generator.\n",
    "                                        This should be equal to the size of the feature space.\n",
    "        :param dropout:             The dropout rate.\n",
    "        :param leaky_relu_slope:    The slope of the leaky ReLU activation function.\n",
    "        \"\"\"\n",
    "        super().__init__()\n",
    "\n",
    "        # Initialize the sequential multi-layer perceptron model using the given parameters.\n",
    "        self.sequential_model = nn.Sequential(\n",
    "            nn.Linear(in_features=input_size, out_features=256),\n",
    "            nn.Dropout(p=dropout, inplace=True),\n",
    "            nn.LeakyReLU(negative_slope=leaky_relu_slope, inplace=True),\n",
    "\n",
    "            nn.Linear(in_features=256, out_features=512),\n",
    "            nn.Dropout(p=dropout, inplace=True),\n",
    "            nn.LeakyReLU(negative_slope=leaky_relu_slope, inplace=True),\n",
    "\n",
    "            nn.Linear(in_features=512, out_features=1024),\n",
    "            nn.Dropout(p=dropout, inplace=True),\n",
    "            nn.LeakyReLU(negative_slope=leaky_relu_slope, inplace=True),\n",
    "\n",
    "            nn.Linear(in_features=1024, out_features=output_size),\n",
    "            # Final Tanh activation function to force all outputs to be in the range [-1, 1]\n",
    "            nn.Tanh()\n",
    "        )\n",
    "\n",
    "    def forward(self, batch: Tensor) -> Tensor:\n",
    "        \"\"\"\n",
    "        A function that generates fake samples for a batch of priors.\n",
    "\n",
    "        :param batch:   A batch of priors (random tensors).\n",
    "        :return:        A batch of fake samples.\n",
    "        \"\"\"\n",
    "        return self.sequential_model(batch)\n",
    "\n",
    "\n",
    "prior_size = 100\n",
    "dropout = 0.1\n",
    "leaky_relu_slope = 0.1\n",
    "generator = Generator(prior_size, feature_dim, dropout, leaky_relu_slope)"
   ],
   "metadata": {
    "collapsed": false
   }
  },
  {
   "cell_type": "markdown",
   "source": [
    "### 5.2 Defining the Discriminator\n",
    "\n",
    "The discriminator network takes as input a 1D tensor that could either be a real MNIST image or a fake image produced by the generator. It outputs a single scalar between 0 and 1, representing its confidence that the image is real. The discriminator network also typically includes several fully connected layers. We'll use the LeakyReLU activation function for these layers, and the Sigmoid function for the last layer to output a probability."
   ],
   "metadata": {
    "collapsed": false
   }
  },
  {
   "cell_type": "code",
   "execution_count": 29,
   "outputs": [],
   "source": [
    "class Discriminator(nn.Module):\n",
    "    \"\"\"\n",
    "    A basic implementation for a discriminator network.\n",
    "\n",
    "    This discriminator implementation uses a standard multi-layer perceptron (MLP).\n",
    "    \"\"\"\n",
    "\n",
    "    def __init__(\n",
    "            self,\n",
    "            input_size: int,\n",
    "            dropout: float,\n",
    "            leaky_relu_slope: float\n",
    "    ):\n",
    "        \"\"\"\n",
    "        The initialization function for the discriminator.\n",
    "\n",
    "        :param input_size:              The input size of the discriminator.\n",
    "                                            This should be equal to the size of the feature space.\n",
    "        :param dropout:                 The dropout rate.\n",
    "        :param leaky_relu_slope:        The slope of the leaky ReLU activation function.\n",
    "        \"\"\"\n",
    "        super().__init__()\n",
    "\n",
    "        # Initialize the sequential multi-layer perceptron model using the given parameters.\n",
    "        self.sequential_model = nn.Sequential(\n",
    "            nn.Linear(in_features=input_size, out_features=1024),\n",
    "            nn.Dropout(p=dropout, inplace=True),\n",
    "            nn.LeakyReLU(negative_slope=leaky_relu_slope, inplace=True),\n",
    "\n",
    "            nn.Linear(in_features=1024, out_features=512),\n",
    "            nn.Dropout(p=dropout, inplace=True),\n",
    "            nn.LeakyReLU(negative_slope=leaky_relu_slope, inplace=True),\n",
    "\n",
    "            nn.Linear(in_features=512, out_features=256),\n",
    "            nn.Dropout(p=dropout, inplace=True),\n",
    "            nn.LeakyReLU(negative_slope=leaky_relu_slope, inplace=True),\n",
    "\n",
    "            nn.Linear(in_features=256, out_features=1)\n",
    "        )\n",
    "\n",
    "    def forward(self, batch: Tensor) -> Tensor:\n",
    "        \"\"\"\n",
    "        A function that computes the output of the discriminator for one batch of data.\n",
    "\n",
    "        :param batch:       The batch (2d Tensor) to compute the output for\n",
    "        :return:            The output (2d Tensor)\n",
    "        \"\"\"\n",
    "        return torch.sigmoid(self.sequential_model(batch))\n",
    "\n",
    "\n",
    "discriminator = Discriminator(feature_dim, dropout, leaky_relu_slope)"
   ],
   "metadata": {
    "collapsed": false
   }
  },
  {
   "cell_type": "markdown",
   "source": [
    "## 6. Training the GAN <a class='anchor' id='section6'></a>"
   ],
   "metadata": {
    "collapsed": false
   }
  },
  {
   "cell_type": "markdown",
   "source": [
    "## 7. Limitations of GANs <a class='anchor' id='section7'></a>"
   ],
   "metadata": {
    "collapsed": false
   }
  },
  {
   "cell_type": "markdown",
   "source": [
    "## 8. Summary and Conclusion <a class='anchor' id='section8'></a>"
   ],
   "metadata": {
    "collapsed": false
   }
  },
  {
   "cell_type": "markdown",
   "source": [
    "## 9. Exercises and Challenges <a class='anchor' id='section9'></a>"
   ],
   "metadata": {
    "collapsed": false
   }
  },
  {
   "cell_type": "code",
   "execution_count": null,
   "outputs": [],
   "source": [],
   "metadata": {
    "collapsed": false
   }
  }
 ],
 "metadata": {
  "kernelspec": {
   "display_name": "Python 3",
   "language": "python",
   "name": "python3"
  },
  "language_info": {
   "codemirror_mode": {
    "name": "ipython",
    "version": 2
   },
   "file_extension": ".py",
   "mimetype": "text/x-python",
   "name": "python",
   "nbconvert_exporter": "python",
   "pygments_lexer": "ipython2",
   "version": "2.7.6"
  }
 },
 "nbformat": 4,
 "nbformat_minor": 0
}
