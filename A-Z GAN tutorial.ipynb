{
 "cells": [
  {
   "cell_type": "markdown",
   "source": [
    "# Generative Adversarial Networks (GANs) - An A-Z tutorial\n",
    "\n",
    "## Table of Contents\n",
    "\n",
    "1. Introduction\n",
    "2. Background and Theory\n",
    "3. Setting up the Environment\n",
    "4. Dataset Introduction and Preparation\n",
    "5. Implementing a Basic GAN\n",
    "6. Training the GAN\n",
    "7. Limitations of GANs\n",
    "8. Summary and Conclusion\n",
    "9. Exercises and Challenges"
   ],
   "metadata": {
    "collapsed": false
   }
  },
  {
   "cell_type": "markdown",
   "source": [
    "## <a name='introduction'>Introduction</a>\n",
    "\n",
    "GANs are one of the most exciting advancements in machine learning in recent years. They have shown remarkable results in a variety of applications such as image synthesis, super-resolution, and image-to-image translation.\n",
    "\n",
    "This notebook aims to introduce you to the fundamental concepts of GANs, guide you through the necessary steps to grasp the GAN framework, and provide hands-on experience with the implementation of a GAN model. By the end of this guide, you will understand:\n",
    "\n",
    "- What GANs are and the theory behind them.\n",
    "- How to implement a basic GAN model.\n",
    "- How to train a GAN model.\n",
    "- The limitations and challenges of GANs.\n",
    "\n",
    "This guide is designed to be informative. It is to get you up to speed very quickly with how GANs work, not to challenge you to implement one yourself. This notebook covers the basics, but I encourage you to look at all the interesting follow-up work and see what is out there for yourself."
   ],
   "metadata": {
    "collapsed": false
   }
  },
  {
   "cell_type": "markdown",
   "source": [
    "## 2. Background and Theory <a class='anchor' id='section2'></a>\n",
    "\n",
    "GANs, short for Generative Adversarial Networks, are a class of machine learning frameworks introduced by [Ian Goodfellow and his colleagues in 2014](https://papers.nips.cc/paper_files/paper/2014/hash/5ca3e9b122f61f8f06494c97b1afccf3-Abstract.html). They are designed to generate new, synthetic instances of data that can pass for real, existing instances.\n",
    "\n",
    "### 2.1 Fundamental Concepts\n",
    "\n",
    "GANs consist of two parts:\n",
    "\n",
    "**Generator:** This is the \"counterfeiter,\" tasked with creating fake data. The generator takes random noise as input and generates data (e.g., an image) as output.\n",
    "\n",
    "**Discriminator:** This is the \"police,\" trying to distinguish the fake data from real data. It is a binary classifier that outputs the probability that the given input comes from the real dataset rather than the generator.\n",
    "\n",
    "### 2.2 Architecture of GANs\n",
    "\n",
    "The generator and discriminator are set up to play a two-player minimax game, in which the generator tries to fool the discriminator, and the discriminator tries to not get fooled. This process can be summarized as follows:\n",
    "\n",
    "1. The generator creates a batch of fake data.\n",
    "2. The fake data, along with real data, are given to the discriminator.\n",
    "3. The discriminator classifies the data as real or fake.\n",
    "4. Both the generator and discriminator learn from their mistakes and adjust for the next round.\n",
    "\n",
    "This adversarial process leads the generator to produce increasingly realistic data, while the discriminator becomes better at distinguishing fake data. Over time, the generator can produce data that's almost indistinguishable from the real data.\n",
    "\n",
    "### 2.3 Understanding the Loss Function\n",
    "\n",
    "The loss function of a GAN reflects the adversarial relationship between the generator and the discriminator. The generator aims to minimize this function, while the discriminator aims to maximize it. This is the essence of the minimax game played between the two.\n",
    "\n",
    "Mathematically, the value function $V$ for a simple GAN can be written as:\n",
    "\n",
    "$$\\min_G \\max_D V(D, G) = \\mathbb{E}_{x\\sim p_{data}(x)}[\\log D(x)] + \\mathbb{E}_{z\\sim p_z(z)}[\\log(1-D(G(z)))]$$\n",
    "\n",
    "where:\n",
    "- `G` is the generator function, which maps from the latent space to the feature (data) space.\n",
    "- `D` is the discriminator function, which outputs the probability that the data came from the real dataset.\n",
    "- `z` is a random prior, a point in the latent space, which is the input that the generator uses to generate a fake sample.\n",
    "- `x` is a point in the feature (data) space.\n",
    "\n",
    "The first term in the equation is the expectation of the log-probability that the discriminator correctly classifies a real instance as real. The second term is the expectation of the log-probability that the discriminator correctly classifies a fake (generated) instance as fake.\n",
    "\n",
    "As the generator's goal is to fool the discriminator, it tries to maximize the probability that the discriminator incorrectly classifies a fake instance as real, hence it aims to minimize `log(1 - D(G(z)))`. On the other hand, the discriminator tries to correctly classify both real and fake instances, hence it aims to maximize both `log(D(x))` and `log(1 - D(G(z)))`.\n",
    "\n",
    "In practice, the generator minimizes the negative of this loss function, which is equivalent to maximizing the probability that the discriminator incorrectly classifies a fake instance as real.\n",
    "\n",
    "Through this process, both the generator and the discriminator improve their ability to generate realistic data and distinguish between real and fake data, respectively."
   ],
   "metadata": {
    "collapsed": false
   }
  },
  {
   "cell_type": "markdown",
   "source": [
    "## 3. Setting up the Environment <a class='anchor' id='section3'></a>\n",
    "\n",
    "Now that you have a rough understanding of how GANs work, let's implement them. For the implementation, we need a couple of libraries."
   ],
   "metadata": {
    "collapsed": false
   }
  },
  {
   "cell_type": "code",
   "execution_count": 2,
   "outputs": [
    {
     "name": "stdout",
     "output_type": "stream",
     "text": [
      "Requirement already satisfied: numpy in c:\\users\\320205369\\documents\\code\\envs\\base-env\\lib\\site-packages (1.23.4)\n",
      "Requirement already satisfied: matplotlib in c:\\users\\320205369\\documents\\code\\envs\\base-env\\lib\\site-packages (3.6.2)\n",
      "Requirement already satisfied: torch in c:\\users\\320205369\\documents\\code\\envs\\base-env\\lib\\site-packages (1.13.0)\n",
      "Requirement already satisfied: torchvision in c:\\users\\320205369\\documents\\code\\envs\\base-env\\lib\\site-packages (0.14.0)\n",
      "Requirement already satisfied: tqdm in c:\\users\\320205369\\documents\\code\\envs\\base-env\\lib\\site-packages (4.64.1)\n",
      "Requirement already satisfied: contourpy>=1.0.1 in c:\\users\\320205369\\documents\\code\\envs\\base-env\\lib\\site-packages (from matplotlib) (1.0.6)\n",
      "Requirement already satisfied: kiwisolver>=1.0.1 in c:\\users\\320205369\\documents\\code\\envs\\base-env\\lib\\site-packages (from matplotlib) (1.4.4)\n",
      "Requirement already satisfied: cycler>=0.10 in c:\\users\\320205369\\documents\\code\\envs\\base-env\\lib\\site-packages (from matplotlib) (0.11.0)\n",
      "Requirement already satisfied: packaging>=20.0 in c:\\users\\320205369\\documents\\code\\envs\\base-env\\lib\\site-packages (from matplotlib) (23.0)\n",
      "Requirement already satisfied: python-dateutil>=2.7 in c:\\users\\320205369\\documents\\code\\envs\\base-env\\lib\\site-packages (from matplotlib) (2.8.2)\n",
      "Requirement already satisfied: pillow>=6.2.0 in c:\\users\\320205369\\documents\\code\\envs\\base-env\\lib\\site-packages (from matplotlib) (9.3.0)\n",
      "Requirement already satisfied: pyparsing>=2.2.1 in c:\\users\\320205369\\documents\\code\\envs\\base-env\\lib\\site-packages (from matplotlib) (3.0.9)\n",
      "Requirement already satisfied: fonttools>=4.22.0 in c:\\users\\320205369\\documents\\code\\envs\\base-env\\lib\\site-packages (from matplotlib) (4.38.0)\n",
      "Requirement already satisfied: typing-extensions in c:\\users\\320205369\\documents\\code\\envs\\base-env\\lib\\site-packages (from torch) (4.4.0)\n",
      "Requirement already satisfied: requests in c:\\users\\320205369\\documents\\code\\envs\\base-env\\lib\\site-packages (from torchvision) (2.28.1)\n",
      "Requirement already satisfied: colorama in c:\\users\\320205369\\documents\\code\\envs\\base-env\\lib\\site-packages (from tqdm) (0.4.6)\n",
      "Requirement already satisfied: six>=1.5 in c:\\users\\320205369\\documents\\code\\envs\\base-env\\lib\\site-packages (from python-dateutil>=2.7->matplotlib) (1.16.0)\n",
      "Requirement already satisfied: idna<4,>=2.5 in c:\\users\\320205369\\documents\\code\\envs\\base-env\\lib\\site-packages (from requests->torchvision) (3.4)\n",
      "Requirement already satisfied: urllib3<1.27,>=1.21.1 in c:\\users\\320205369\\documents\\code\\envs\\base-env\\lib\\site-packages (from requests->torchvision) (1.26.12)\n",
      "Requirement already satisfied: certifi>=2017.4.17 in c:\\users\\320205369\\documents\\code\\envs\\base-env\\lib\\site-packages (from requests->torchvision) (2022.12.7)\n",
      "Requirement already satisfied: charset-normalizer<3,>=2 in c:\\users\\320205369\\documents\\code\\envs\\base-env\\lib\\site-packages (from requests->torchvision) (2.1.1)\n"
     ]
    }
   ],
   "source": [
    "!pip install numpy matplotlib torch torchvision tqdm"
   ],
   "metadata": {
    "collapsed": false
   }
  },
  {
   "cell_type": "code",
   "execution_count": 3,
   "outputs": [
    {
     "name": "stdout",
     "output_type": "stream",
     "text": [
      "Loaded all libraries successfully!\n"
     ]
    }
   ],
   "source": [
    "# Check if everything is downloaded correctly\n",
    "import numpy as np\n",
    "import matplotlib.pyplot as plt\n",
    "import torch\n",
    "from torch import nn\n",
    "from torchvision import datasets\n",
    "from tqdm import tqdm\n",
    "\n",
    "print(\"Loaded all libraries successfully!\")"
   ],
   "metadata": {
    "collapsed": false
   }
  },
  {
   "cell_type": "code",
   "execution_count": 4,
   "outputs": [
    {
     "name": "stdout",
     "output_type": "stream",
     "text": [
      "Running on:  cpu\n"
     ]
    }
   ],
   "source": [
    "# If there is a GPU available, using it will significantly speed up the training process.\n",
    "DEVICE = 'cuda' if torch.cuda.is_available() else 'cpu'\n",
    "print(\"Running on: \", DEVICE)"
   ],
   "metadata": {
    "collapsed": false
   }
  },
  {
   "cell_type": "markdown",
   "source": [
    "## 4. Dataset Introduction and Preparation <a class='anchor' id='section4'></a>\n",
    "\n",
    "We will be using the MNIST dataset throughout this notebook. This dataset is easily accessible through the torchvision library."
   ],
   "metadata": {
    "collapsed": false
   }
  },
  {
   "cell_type": "code",
   "execution_count": 5,
   "outputs": [],
   "source": [
    "# Download the MNIST dataset.\n",
    "mnist_dataset = datasets.MNIST(root='./.data/mnist_data/', train=True, download=True)"
   ],
   "metadata": {
    "collapsed": false
   }
  },
  {
   "cell_type": "code",
   "execution_count": 6,
   "outputs": [
    {
     "name": "stdout",
     "output_type": "stream",
     "text": [
      "Dataset shape:  torch.Size([60000, 28, 28])\n"
     ]
    },
    {
     "data": {
      "text/plain": "<Figure size 1200x300 with 4 Axes>",
      "image/png": "[encoded data removed]"
     },
     "metadata": {},
     "output_type": "display_data"
    }
   ],
   "source": [
    "# The training data consists of 60.000 samples, each of 28 by 28 pixels.\n",
    "print(\"Dataset shape: \", mnist_dataset.data.shape)\n",
    "\n",
    "def plot_5(batch):\n",
    "    indices = np.random.choice(batch.shape[0], size=4, replace=False)\n",
    "\n",
    "    fig, axes = plt.subplots(1, 4, figsize=(12, 3))\n",
    "\n",
    "    for i, idx in enumerate(indices):\n",
    "        image = batch[idx]\n",
    "        axes[i].imshow(image, cmap='gray')\n",
    "        axes[i].axis('off')\n",
    "\n",
    "    plt.show()\n",
    "\n",
    "plot_5(mnist_dataset.data)"
   ],
   "metadata": {
    "collapsed": false
   }
  },
  {
   "cell_type": "markdown",
   "source": [
    "### 4.1 Preprocessing\n",
    "\n",
    "Before we can use the MNIST dataset for training our GAN, we need to preprocess the images. This preprocessing involves three main steps: casting the images to floats, normalizing the images and reshaping them into 1D tensors.\n",
    "\n",
    "**Casting:** By default, the MNIST data consists of integers. Before we can normalize the data, we need to turn the datatype into floats.\n",
    "\n",
    "**Normalization:** The pixel intensities in the MNIST images are originally in the range of 0 to 255. We normalize these intensities to be in the range [-1, 1]. Normalization helps to stabilize the training process and makes the output of the generator easier to interpret.\n",
    "\n",
    "**Reshaping:** Since we are going to use a simple GAN with multi-layer perceptrons, we need to flatten each image, which is originally a 2D tensor (28x28), into a 1D tensor (of size 784). This is because multi-layer perceptrons accept input data in a flat, vectorized form."
   ],
   "metadata": {
    "collapsed": false
   }
  },
  {
   "cell_type": "code",
   "execution_count": 7,
   "outputs": [
    {
     "name": "stdout",
     "output_type": "stream",
     "text": [
      "Example of batch:\n",
      "tensor([[-1., -1., -1.,  ..., -1., -1., -1.],\n",
      "        [-1., -1., -1.,  ..., -1., -1., -1.],\n",
      "        [-1., -1., -1.,  ..., -1., -1., -1.],\n",
      "        ...,\n",
      "        [-1., -1., -1.,  ..., -1., -1., -1.],\n",
      "        [-1., -1., -1.,  ..., -1., -1., -1.],\n",
      "        [-1., -1., -1.,  ..., -1., -1., -1.]])\n",
      "\n",
      "Feature space size:\n",
      "784\n"
     ]
    }
   ],
   "source": [
    "from torchvision.transforms import Normalize\n",
    "\n",
    "\n",
    "def preprocess_dataset(dataset):\n",
    "    # Casting\n",
    "    dataset = dataset.float()\n",
    "\n",
    "    # Normalization\n",
    "    dataset = Normalize(0.5, 0.5)(dataset)\n",
    "\n",
    "    # Reshaping\n",
    "    dataset = dataset.reshape(dataset.shape[0], -1)\n",
    "\n",
    "    return dataset\n",
    "\n",
    "preprocessed_dataset = preprocess_dataset(mnist_dataset.data)\n",
    "feature_dim = preprocessed_dataset.shape[-1]\n",
    "\n",
    "print(\"Example of batch:\")\n",
    "print(preprocessed_dataset)\n",
    "\n",
    "print(\"\\nFeature space size:\")\n",
    "print(feature_dim)"
   ],
   "metadata": {
    "collapsed": false
   }
  },
  {
   "cell_type": "markdown",
   "source": [
    "### Initializing a dataloader\n",
    "\n",
    "Now that the data is preprocessed, it can be loaded into a dataloader for easy retrieval. To initialize a dataloader, we will need to provide a batch size. For now, lets use a batch size of $128$"
   ],
   "metadata": {
    "collapsed": false
   }
  },
  {
   "cell_type": "code",
   "execution_count": 8,
   "outputs": [],
   "source": [
    "from torch.utils.data import DataLoader\n",
    "\n",
    "batch_size = 128\n",
    "dataloader = DataLoader(dataset=preprocessed_dataset, batch_size=batch_size, shuffle=True, drop_last=True)"
   ],
   "metadata": {
    "collapsed": false
   }
  },
  {
   "cell_type": "markdown",
   "source": [
    "## 5. Implementing a Basic GAN <a class='anchor' id='section5'></a>\n",
    "\n",
    "Having prepared our dataset, we're now ready to implement a basic GAN. In this section, we will define the generator and discriminator networks using multi-layer perceptrons. Each network will be implemented as a separate Python class using PyTorch, a popular deep learning library."
   ],
   "metadata": {
    "collapsed": false
   }
  },
  {
   "cell_type": "markdown",
   "source": [
    "### 5.1 Defining the Generator\n",
    "\n",
    "The generator network takes as input a random noise vector (latent vector) and transforms it into a 1D tensor that resembles our flattened MNIST images. The generator network typically includes several fully connected layers, and we'll use the ReLU activation function for all layers except for the last one, where we'll use the Tanh function to output values in the range [-1, 1], matching our normalized MNIST images."
   ],
   "metadata": {
    "collapsed": false
   }
  },
  {
   "cell_type": "code",
   "execution_count": 12,
   "outputs": [],
   "source": [
    "from torch import Tensor\n",
    "\n",
    "\n",
    "class Generator(nn.Module):\n",
    "    \"\"\"\n",
    "    A basic implementation for a generator network.\n",
    "\n",
    "    This generator implementation uses a standard multi-layer perceptron (MLP).\n",
    "    \"\"\"\n",
    "\n",
    "    def __init__(\n",
    "            self,\n",
    "            input_size: int,\n",
    "            output_size: int,\n",
    "            dropout: float,\n",
    "            leaky_relu_slope: float,\n",
    "    ):\n",
    "        \"\"\"\n",
    "        The initialization function for the generator.\n",
    "\n",
    "        :param input_size:          The input size of the generator.\n",
    "                                        This should be equal to the size of the random prior.\n",
    "        :param output_size:         The output size of the generator.\n",
    "                                        This should be equal to the size of the feature space.\n",
    "        :param dropout:             The dropout rate.\n",
    "        :param leaky_relu_slope:    The slope of the leaky ReLU activation function.\n",
    "        \"\"\"\n",
    "        super().__init__()\n",
    "\n",
    "        # Initialize the sequential multi-layer perceptron model using the given parameters.\n",
    "        self.sequential_model = nn.Sequential(\n",
    "            nn.Linear(in_features=input_size, out_features=256),\n",
    "            nn.Dropout(p=dropout, inplace=True),\n",
    "            nn.LeakyReLU(negative_slope=leaky_relu_slope, inplace=True),\n",
    "\n",
    "            nn.Linear(in_features=256, out_features=512),\n",
    "            nn.Dropout(p=dropout, inplace=True),\n",
    "            nn.LeakyReLU(negative_slope=leaky_relu_slope, inplace=True),\n",
    "\n",
    "            nn.Linear(in_features=512, out_features=1024),\n",
    "            nn.Dropout(p=dropout, inplace=True),\n",
    "            nn.LeakyReLU(negative_slope=leaky_relu_slope, inplace=True),\n",
    "\n",
    "            nn.Linear(in_features=1024, out_features=output_size),\n",
    "            # Final Tanh activation function to force all outputs to be in the range [-1, 1]\n",
    "            nn.Tanh()\n",
    "        )\n",
    "\n",
    "    def forward(self, batch: Tensor) -> Tensor:\n",
    "        \"\"\"\n",
    "        A function that generates fake samples for a batch of priors.\n",
    "\n",
    "        :param batch:   A batch of priors (random tensors).\n",
    "        :return:        A batch of fake samples.\n",
    "        \"\"\"\n",
    "        return self.sequential_model(batch)\n",
    "\n",
    "\n",
    "prior_size = 100\n",
    "dropout = 0.1\n",
    "leaky_relu_slope = 0.1\n",
    "generator_instance = Generator(prior_size, feature_dim, dropout, leaky_relu_slope)"
   ],
   "metadata": {
    "collapsed": false
   }
  },
  {
   "cell_type": "markdown",
   "source": [
    "### 5.2 Defining the Discriminator\n",
    "\n",
    "The discriminator network takes as input a 1D tensor that could either be a real MNIST image or a fake image produced by the generator. It outputs a single scalar between 0 and 1, representing its confidence that the image is real. The discriminator network also typically includes several fully connected layers. We'll use the LeakyReLU activation function for these layers, and the Sigmoid function for the last layer to output a probability."
   ],
   "metadata": {
    "collapsed": false
   }
  },
  {
   "cell_type": "code",
   "execution_count": 13,
   "outputs": [],
   "source": [
    "class Discriminator(nn.Module):\n",
    "    \"\"\"\n",
    "    A basic implementation for a discriminator network.\n",
    "\n",
    "    This discriminator implementation uses a standard multi-layer perceptron (MLP).\n",
    "    \"\"\"\n",
    "\n",
    "    def __init__(\n",
    "            self,\n",
    "            input_size: int,\n",
    "            dropout: float,\n",
    "            leaky_relu_slope: float\n",
    "    ):\n",
    "        \"\"\"\n",
    "        The initialization function for the discriminator.\n",
    "\n",
    "        :param input_size:              The input size of the discriminator.\n",
    "                                            This should be equal to the size of the feature space.\n",
    "        :param dropout:                 The dropout rate.\n",
    "        :param leaky_relu_slope:        The slope of the leaky ReLU activation function.\n",
    "        \"\"\"\n",
    "        super().__init__()\n",
    "\n",
    "        # Initialize the sequential multi-layer perceptron model using the given parameters.\n",
    "        self.sequential_model = nn.Sequential(\n",
    "            nn.Linear(in_features=input_size, out_features=1024),\n",
    "            nn.Dropout(p=dropout, inplace=True),\n",
    "            nn.LeakyReLU(negative_slope=leaky_relu_slope, inplace=True),\n",
    "\n",
    "            nn.Linear(in_features=1024, out_features=512),\n",
    "            nn.Dropout(p=dropout, inplace=True),\n",
    "            nn.LeakyReLU(negative_slope=leaky_relu_slope, inplace=True),\n",
    "\n",
    "            nn.Linear(in_features=512, out_features=256),\n",
    "            nn.Dropout(p=dropout, inplace=True),\n",
    "            nn.LeakyReLU(negative_slope=leaky_relu_slope, inplace=True),\n",
    "\n",
    "            nn.Linear(in_features=256, out_features=1)\n",
    "        )\n",
    "\n",
    "    def forward(self, batch: Tensor) -> Tensor:\n",
    "        \"\"\"\n",
    "        A function that computes the output of the discriminator for one batch of data.\n",
    "\n",
    "        :param batch:       The batch (2d Tensor) to compute the output for\n",
    "        :return:            The output (2d Tensor)\n",
    "        \"\"\"\n",
    "        return torch.sigmoid(self.sequential_model(batch))\n",
    "\n",
    "\n",
    "discriminator_instance = Discriminator(feature_dim, dropout, leaky_relu_slope)"
   ],
   "metadata": {
    "collapsed": false
   }
  },
  {
   "cell_type": "markdown",
   "source": [
    "## 6. Training the GAN <a class='anchor' id='section6'></a>\n",
    "\n",
    "Now that we have implemented our basic GAN, the next step is to train it. Training a GAN involves an iterative process where the generator and discriminator improve together over time.\n",
    "\n",
    "### 6.1 Training Procedure\n",
    "\n",
    "The training procedure for a GAN generally follows these steps:\n",
    "\n",
    "1. **Train the Discriminator:** First, we train the discriminator by feeding it a batch of real images from the MNIST dataset and a batch of fake images generated by the generator. We calculate the loss for each and backpropagate to update the discriminator's weights.\n",
    "\n",
    "2. **Train the Generator:** Next, we train the generator. We generate a batch of fake images and pass them through the discriminator. However, this time we calculate the loss based on how well the generator was able to \"fool\" the discriminator - that is, how many fake images were classified by the discriminator as real. We backpropagate this loss to update the generator's weights.\n",
    "\n",
    "3. **Repeat:** We repeat these steps for a number of epochs, alternating between training the discriminator and the generator."
   ],
   "metadata": {
    "collapsed": false
   }
  },
  {
   "cell_type": "markdown",
   "source": [
    "## 6.2 Training the Discriminator\n",
    "\n",
    "The discriminator's job is to get better at distinguishing between real and fake data. During the training of the discriminator, we keep the weights of the generator constant.\n",
    "\n",
    "Here are the steps involved:\n",
    "\n",
    "1. **Classify Real Data:** We first pass a batch of real data from the MNIST dataset through the discriminator. We compare the output of the discriminator (probability that the data is real) to an array of ones (since the data is indeed real).\n",
    "\n",
    "2. **Generate and Classify Fake Data:** Next, the generator creates a batch of fake data from random noise vectors. The discriminator then classifies this fake data. This time, we compare the discriminator's output to an array of zeros (since the data is fake).\n",
    "\n",
    "3. **Compute Loss:** We compute two losses: one for the real data and one for the fake data, and we add them together. This combined loss represents the discriminator's ability to correctly classify both real and fake data.\n",
    "\n",
    "4. **Backpropagate:** We compute the gradients and backpropagate them through the discriminator network.\n",
    "\n",
    "5. **Update Discriminator's Weights:** Using these gradients and the learning rate, we update the discriminator's weights.\n",
    "\n",
    "By following these steps, the discriminator learns to more accurately distinguish between real and fake data. We typically use an optimization algorithm like Adam for this step."
   ],
   "metadata": {
    "collapsed": false
   }
  },
  {
   "cell_type": "code",
   "execution_count": 14,
   "outputs": [],
   "source": [
    "from torch.optim import Optimizer\n",
    "from typing import Callable\n",
    "\n",
    "\n",
    "def train_discriminator(\n",
    "        generator: nn.Module,\n",
    "        discriminator: nn.Module,\n",
    "        batch_of_real_data: Tensor,\n",
    "        discriminator_optimizer: Optimizer,\n",
    "        prior_generation_function: Callable[[int, int], Tensor],\n",
    "    ) -> float:\n",
    "    \"\"\"\n",
    "    A function that trains the discriminator for one batch of data.\n",
    "\n",
    "    :return:        The discriminator loss.\n",
    "    \"\"\"\n",
    "    # Reset gradients of discriminator optimizer\n",
    "    discriminator_optimizer.zero_grad()\n",
    "\n",
    "    # 1. Get batch of data, and discriminate that data.\n",
    "    discriminator_output_real = discriminator(batch_of_real_data)\n",
    "\n",
    "    # 2. Generate prior, generate samples using that prior, and then discriminate the generated samples\n",
    "    prior = prior_generation_function(batch_size, prior_size).to(DEVICE)\n",
    "    generator_output = generator(prior)\n",
    "    discriminator_output_fake = discriminator(generator_output)\n",
    "\n",
    "    # 3. Compute total loss\n",
    "    discriminator_loss = nn.BCELoss()(discriminator_output_real,\n",
    "                                      torch.full_like(discriminator_output_real, 1)) + \\\n",
    "                         nn.BCELoss()(discriminator_output_fake,\n",
    "                                      torch.full_like(discriminator_output_fake, 0))\n",
    "\n",
    "    # 4, 5. Back propagate loss and update weights\n",
    "    discriminator_loss.backward()\n",
    "    discriminator_optimizer.step()\n",
    "\n",
    "    # Return loss\n",
    "    return discriminator_loss.data.item()"
   ],
   "metadata": {
    "collapsed": false
   }
  },
  {
   "cell_type": "markdown",
   "source": [
    "## 6.3 Training the Generator\n",
    "\n",
    "The training goal of the generator is to generate data that the discriminator will incorrectly classify as real. During the training of the generator, we keep the weights of the discriminator constant.\n",
    "\n",
    "Here is the step-by-step procedure:\n",
    "\n",
    "1. **Generate a Prior:** Generate random noise vectors (priors) that can be used to generate the fake data.\n",
    "\n",
    "2. **Generate Fake Data:** The generator creates a batch of fake data from random noise vectors.\n",
    "\n",
    "3. **Classify Fake Data:** The discriminator classifies the fake data. We want the discriminator to believe that this data is real, so we compare the discriminator's output to an array of ones.\n",
    "\n",
    "4. **Compute Loss:** We calculate the loss for the generator based on how well it was able to fool the discriminator. The generator's goal is to minimize this loss.\n",
    "\n",
    "5. **Backpropagate:** The gradients are computed and backpropagated through the generator network.\n",
    "\n",
    "6. **Update Generator's Weights:** The generator's weights are then updated using these gradients and the learning rate. Again, we typically use an optimization algorithm like Adam for this step.\n"
   ],
   "metadata": {
    "collapsed": false
   }
  },
  {
   "cell_type": "code",
   "execution_count": 15,
   "outputs": [],
   "source": [
    "def train_generator(\n",
    "        generator: nn.Module,\n",
    "        discriminator: nn.Module,\n",
    "        generator_optimizer: Optimizer,\n",
    "        prior_generation_function: Callable[[int, int], Tensor],\n",
    "    ) -> float:\n",
    "    \"\"\"\n",
    "    A function that trains the generator for one batch of data.\n",
    "\n",
    "    :return:        The generator loss.\n",
    "    \"\"\"\n",
    "    # Reset gradients of generator optimizer\n",
    "    generator_optimizer.zero_grad()\n",
    "\n",
    "    # 1. Generate prior\n",
    "    prior: Tensor = prior_generation_function(batch_size, prior_size).to(DEVICE)\n",
    "\n",
    "    # 2, 3. Generate and discriminate data points\n",
    "    generator_output: Tensor = generator(prior)\n",
    "    discriminator_output: Tensor = discriminator(generator_output)\n",
    "\n",
    "    # 4. Calculate the loss\n",
    "    generator_loss: Tensor = nn.BCELoss()(discriminator_output,\n",
    "                                          torch.full_like(discriminator_output, 1))\n",
    "\n",
    "    # 5, 6. Back propagate and update weights\n",
    "    generator_loss.backward()\n",
    "    generator_optimizer.step()\n",
    "\n",
    "    # Return loss\n",
    "    return generator_loss.data.item()"
   ],
   "metadata": {
    "collapsed": false
   }
  },
  {
   "cell_type": "markdown",
   "source": [
    "## 6.4 The Training Loop\n",
    "\n",
    "Having described the steps to train the generator and the discriminator, we can now combine these into a complete training loop.\n",
    "\n",
    "First we need to set a couple of hyperparameters, define the optimizers for our generator and discriminator, and intialize 2 empty lists to keep track of our generator and discriminator losses."
   ],
   "metadata": {
    "collapsed": false
   }
  },
  {
   "cell_type": "code",
   "execution_count": 19,
   "outputs": [],
   "source": [
    "# Setting hyperparameters\n",
    "n_epochs = 5000             # The number of epochs we want to run for\n",
    "n_discriminator = 5         # The number of iterations to run our discriminator for each epoch\n",
    "n_generator = 1             # The number of iterations to run our generator for each epoch\n",
    "learning_rate = 0.0001      # The learning rate for our optimizers\n",
    "\n",
    "generator_optimizer_instance = torch.optim.Adam(generator_instance.parameters(), lr=learning_rate)\n",
    "discriminator_optimizer_instance = torch.optim.Adam(discriminator_instance.parameters(), lr=learning_rate)\n",
    "\n",
    "d_losses = []\n",
    "g_losses = []"
   ],
   "metadata": {
    "collapsed": false
   }
  },
  {
   "cell_type": "markdown",
   "source": [
    "As we have not yet defined how we are going to generate our random noise priors, we need to do that now. Usually, noise priors are simply generated from a standard normal distribution, which we can easily do with `torch.randn()`."
   ],
   "metadata": {
    "collapsed": false
   }
  },
  {
   "cell_type": "code",
   "execution_count": 20,
   "outputs": [],
   "source": [
    "def generate_2d_normal_prior(n_to_generate: int, p_size: int) -> Tensor:\n",
    "    \"\"\"\n",
    "    :param n_to_generate:   The number of priors to generate.\n",
    "    :param p_size:          The size of each prior.\n",
    "    :return:                A batch of random priors of shape (n_to_generate, p_size)\n",
    "    \"\"\"\n",
    "    return torch.randn(n_to_generate, p_size)"
   ],
   "metadata": {
    "collapsed": false
   }
  },
  {
   "cell_type": "markdown",
   "source": [
    "In addition, it is nice to have easily accessible batches without constantly having to re-instantiate a loop over the dataloader. We can define the following simple function which allows us to infinitely call `next(data_iterator)` to receive a new batch of data."
   ],
   "metadata": {
    "collapsed": false
   }
  },
  {
   "cell_type": "code",
   "execution_count": 21,
   "outputs": [],
   "source": [
    "from typing import Iterator\n",
    "\n",
    "def inf_batches(dataloader_to_loop) -> Iterator[Tensor]:\n",
    "    \"\"\" A function that returns an iterator (generator) object for batches of data. \"\"\"\n",
    "    while True:\n",
    "        for batch_of_real_data in dataloader_to_loop:\n",
    "            yield batch_of_real_data.to(DEVICE)\n",
    "\n",
    "data_iterator = inf_batches(dataloader)"
   ],
   "metadata": {
    "collapsed": false
   }
  },
  {
   "cell_type": "markdown",
   "source": [
    "**Now lets finally define our training loop.**"
   ],
   "metadata": {
    "collapsed": false
   }
  },
  {
   "cell_type": "code",
   "execution_count": 22,
   "outputs": [
    {
     "name": "stderr",
     "output_type": "stream",
     "text": [
      "[07:58<14:01, 3.79it/s] 36%|███▋      [1813/5000]: Generator loss: 44.997, Discriminator loss: 0.000  \n"
     ]
    },
    {
     "ename": "KeyboardInterrupt",
     "evalue": "",
     "output_type": "error",
     "traceback": [
      "\u001B[1;31m---------------------------------------------------------------------------\u001B[0m",
      "\u001B[1;31mKeyboardInterrupt\u001B[0m                         Traceback (most recent call last)",
      "Cell \u001B[1;32mIn [22], line 18\u001B[0m\n\u001B[0;32m     16\u001B[0m \u001B[38;5;66;03m# Train generator for n_generator iterations\u001B[39;00m\n\u001B[0;32m     17\u001B[0m \u001B[38;5;28;01mfor\u001B[39;00m _ \u001B[38;5;129;01min\u001B[39;00m \u001B[38;5;28mrange\u001B[39m(n_generator):\n\u001B[1;32m---> 18\u001B[0m     g_losses_epoch\u001B[38;5;241m.\u001B[39mappend(\u001B[43mtrain_generator\u001B[49m\u001B[43m(\u001B[49m\u001B[43mgenerator_instance\u001B[49m\u001B[43m,\u001B[49m\u001B[43m \u001B[49m\u001B[43mdiscriminator_instance\u001B[49m\u001B[43m,\u001B[49m\n\u001B[0;32m     19\u001B[0m \u001B[43m                                          \u001B[49m\u001B[43mgenerator_optimizer_instance\u001B[49m\u001B[43m,\u001B[49m\u001B[43m \u001B[49m\u001B[43mgenerate_2d_normal_prior\u001B[49m\u001B[43m)\u001B[49m)\n\u001B[0;32m     21\u001B[0m \u001B[38;5;66;03m# Store and log losses\u001B[39;00m\n\u001B[0;32m     22\u001B[0m d_losses\u001B[38;5;241m.\u001B[39mappend(\u001B[38;5;28mfloat\u001B[39m(torch\u001B[38;5;241m.\u001B[39mmean(torch\u001B[38;5;241m.\u001B[39mFloatTensor(d_losses_epoch))))\n",
      "Cell \u001B[1;32mIn [15], line 27\u001B[0m, in \u001B[0;36mtrain_generator\u001B[1;34m(generator, discriminator, generator_optimizer, prior_generation_function)\u001B[0m\n\u001B[0;32m     23\u001B[0m generator_loss: Tensor \u001B[38;5;241m=\u001B[39m nn\u001B[38;5;241m.\u001B[39mBCELoss()(discriminator_output,\n\u001B[0;32m     24\u001B[0m                                       torch\u001B[38;5;241m.\u001B[39mfull_like(discriminator_output, \u001B[38;5;241m1\u001B[39m))\n\u001B[0;32m     26\u001B[0m \u001B[38;5;66;03m# 5, 6. Back propagate and update weights\u001B[39;00m\n\u001B[1;32m---> 27\u001B[0m \u001B[43mgenerator_loss\u001B[49m\u001B[38;5;241;43m.\u001B[39;49m\u001B[43mbackward\u001B[49m\u001B[43m(\u001B[49m\u001B[43m)\u001B[49m\n\u001B[0;32m     28\u001B[0m generator_optimizer\u001B[38;5;241m.\u001B[39mstep()\n\u001B[0;32m     30\u001B[0m \u001B[38;5;66;03m# Return loss\u001B[39;00m\n",
      "File \u001B[1;32m~\\Documents\\Code\\envs\\base-env\\lib\\site-packages\\torch\\_tensor.py:487\u001B[0m, in \u001B[0;36mTensor.backward\u001B[1;34m(self, gradient, retain_graph, create_graph, inputs)\u001B[0m\n\u001B[0;32m    477\u001B[0m \u001B[38;5;28;01mif\u001B[39;00m has_torch_function_unary(\u001B[38;5;28mself\u001B[39m):\n\u001B[0;32m    478\u001B[0m     \u001B[38;5;28;01mreturn\u001B[39;00m handle_torch_function(\n\u001B[0;32m    479\u001B[0m         Tensor\u001B[38;5;241m.\u001B[39mbackward,\n\u001B[0;32m    480\u001B[0m         (\u001B[38;5;28mself\u001B[39m,),\n\u001B[1;32m   (...)\u001B[0m\n\u001B[0;32m    485\u001B[0m         inputs\u001B[38;5;241m=\u001B[39minputs,\n\u001B[0;32m    486\u001B[0m     )\n\u001B[1;32m--> 487\u001B[0m \u001B[43mtorch\u001B[49m\u001B[38;5;241;43m.\u001B[39;49m\u001B[43mautograd\u001B[49m\u001B[38;5;241;43m.\u001B[39;49m\u001B[43mbackward\u001B[49m\u001B[43m(\u001B[49m\n\u001B[0;32m    488\u001B[0m \u001B[43m    \u001B[49m\u001B[38;5;28;43mself\u001B[39;49m\u001B[43m,\u001B[49m\u001B[43m \u001B[49m\u001B[43mgradient\u001B[49m\u001B[43m,\u001B[49m\u001B[43m \u001B[49m\u001B[43mretain_graph\u001B[49m\u001B[43m,\u001B[49m\u001B[43m \u001B[49m\u001B[43mcreate_graph\u001B[49m\u001B[43m,\u001B[49m\u001B[43m \u001B[49m\u001B[43minputs\u001B[49m\u001B[38;5;241;43m=\u001B[39;49m\u001B[43minputs\u001B[49m\n\u001B[0;32m    489\u001B[0m \u001B[43m\u001B[49m\u001B[43m)\u001B[49m\n",
      "File \u001B[1;32m~\\Documents\\Code\\envs\\base-env\\lib\\site-packages\\torch\\autograd\\__init__.py:197\u001B[0m, in \u001B[0;36mbackward\u001B[1;34m(tensors, grad_tensors, retain_graph, create_graph, grad_variables, inputs)\u001B[0m\n\u001B[0;32m    192\u001B[0m     retain_graph \u001B[38;5;241m=\u001B[39m create_graph\n\u001B[0;32m    194\u001B[0m \u001B[38;5;66;03m# The reason we repeat same the comment below is that\u001B[39;00m\n\u001B[0;32m    195\u001B[0m \u001B[38;5;66;03m# some Python versions print out the first line of a multi-line function\u001B[39;00m\n\u001B[0;32m    196\u001B[0m \u001B[38;5;66;03m# calls in the traceback and some print out the last line\u001B[39;00m\n\u001B[1;32m--> 197\u001B[0m \u001B[43mVariable\u001B[49m\u001B[38;5;241;43m.\u001B[39;49m\u001B[43m_execution_engine\u001B[49m\u001B[38;5;241;43m.\u001B[39;49m\u001B[43mrun_backward\u001B[49m\u001B[43m(\u001B[49m\u001B[43m  \u001B[49m\u001B[38;5;66;43;03m# Calls into the C++ engine to run the backward pass\u001B[39;49;00m\n\u001B[0;32m    198\u001B[0m \u001B[43m    \u001B[49m\u001B[43mtensors\u001B[49m\u001B[43m,\u001B[49m\u001B[43m \u001B[49m\u001B[43mgrad_tensors_\u001B[49m\u001B[43m,\u001B[49m\u001B[43m \u001B[49m\u001B[43mretain_graph\u001B[49m\u001B[43m,\u001B[49m\u001B[43m \u001B[49m\u001B[43mcreate_graph\u001B[49m\u001B[43m,\u001B[49m\u001B[43m \u001B[49m\u001B[43minputs\u001B[49m\u001B[43m,\u001B[49m\n\u001B[0;32m    199\u001B[0m \u001B[43m    \u001B[49m\u001B[43mallow_unreachable\u001B[49m\u001B[38;5;241;43m=\u001B[39;49m\u001B[38;5;28;43;01mTrue\u001B[39;49;00m\u001B[43m,\u001B[49m\u001B[43m \u001B[49m\u001B[43maccumulate_grad\u001B[49m\u001B[38;5;241;43m=\u001B[39;49m\u001B[38;5;28;43;01mTrue\u001B[39;49;00m\u001B[43m)\u001B[49m\n",
      "\u001B[1;31mKeyboardInterrupt\u001B[0m: "
     ]
    }
   ],
   "source": [
    "from settings import TQDM_BAR_FORMAT\n",
    "\n",
    "generator_instance.train()\n",
    "discriminator_instance.train()\n",
    "\n",
    "# Loop for n_epochs\n",
    "for epoch in (pbar := tqdm(range(1, n_epochs + 1), bar_format=TQDM_BAR_FORMAT, position=0, leave=True)):\n",
    "    d_losses_epoch, g_losses_epoch = [], []\n",
    "\n",
    "    # Train discriminator for n_discriminator iterations\n",
    "    for _ in range(n_discriminator):\n",
    "        batch_of_data = next(data_iterator)\n",
    "        d_losses_epoch.append(train_discriminator(generator_instance, discriminator_instance, batch_of_data,\n",
    "                                                  discriminator_optimizer_instance, generate_2d_normal_prior))\n",
    "\n",
    "    # Train generator for n_generator iterations\n",
    "    for _ in range(n_generator):\n",
    "        g_losses_epoch.append(train_generator(generator_instance, discriminator_instance,\n",
    "                                              generator_optimizer_instance, generate_2d_normal_prior))\n",
    "\n",
    "    # Store and log losses\n",
    "    d_losses.append(float(torch.mean(torch.FloatTensor(d_losses_epoch))))\n",
    "    g_losses.append(float(torch.mean(torch.FloatTensor(g_losses_epoch))))\n",
    "    pbar.set_description_str('[%d/%d]: Generator loss: %.3f, Discriminator loss: %.3f' %\n",
    "                             (epoch, n_epochs, float(g_losses[-1]), float(d_losses[-1])))"
   ],
   "metadata": {
    "collapsed": false
   }
  },
  {
   "cell_type": "markdown",
   "source": [
    "## 6.5 Evaluate the Performance\n",
    "\n",
    "We can evaluate the performance of GANs in many ways:\n",
    "1. **Losses**: We can look at the training losses. Unfortunately, it is very hard to interpret the progression of the training losses and it is not always indicative of good/bad fitting models.\n",
    "2. **Inspecting synthetic points**: We can use the generator to generate several fake samples, and visualize those samples to see if the model is training properly.\n",
    "3. **Metrics**: There is an entire research stream within GAN research that focuses on finding the best metrics."
   ],
   "metadata": {
    "collapsed": false
   }
  },
  {
   "cell_type": "code",
   "execution_count": 24,
   "outputs": [
    {
     "data": {
      "text/plain": "<matplotlib.legend.Legend at 0x17baf323550>"
     },
     "execution_count": 24,
     "metadata": {},
     "output_type": "execute_result"
    },
    {
     "data": {
      "text/plain": "<Figure size 640x480 with 1 Axes>",
      "image/png": "[encoded data removed]"
     },
     "metadata": {},
     "output_type": "display_data"
    }
   ],
   "source": [
    "# 1. Plot loss graphs\n",
    "plt.plot(g_losses, label=\"generator loss\")\n",
    "plt.plot(d_losses, label=\"discriminator loss\")\n",
    "plt.legend()"
   ],
   "metadata": {
    "collapsed": false
   }
  },
  {
   "cell_type": "code",
   "execution_count": 27,
   "outputs": [],
   "source": [
    "# 2. Visualize synthetic samples\n",
    "# 2.1 Generate synthetic samples\n",
    "number_of_samples_to_generate = 50\n",
    "\n",
    "def generate_n_samples(n_to_generate, generator, prior_generation_function):\n",
    "    with torch.no_grad():\n",
    "        # Generate prior\n",
    "        prior: Tensor = prior_generation_function(n_to_generate, prior_size).to(DEVICE)\n",
    "\n",
    "        # Generate samples\n",
    "        generator_output = generator(prior)\n",
    "\n",
    "    # Return samples\n",
    "    return generator_output\n",
    "\n",
    "synthetic_samples = generate_n_samples(number_of_samples_to_generate, generator_instance, generate_2d_normal_prior)\\\n",
    "    .reshape(number_of_samples_to_generate, 28, 28)"
   ],
   "metadata": {
    "collapsed": false
   }
  },
  {
   "cell_type": "code",
   "execution_count": 28,
   "outputs": [
    {
     "data": {
      "text/plain": "<Figure size 1200x300 with 4 Axes>",
      "image/png": "[encoded data removed]"
     },
     "metadata": {},
     "output_type": "display_data"
    }
   ],
   "source": [
    "plot_5(synthetic_samples)"
   ],
   "metadata": {
    "collapsed": false
   }
  },
  {
   "cell_type": "markdown",
   "source": [
    "## 7. Limitations of GANs\n",
    "\n",
    "While GANs are powerful tools for generating realistic synthetic data, they do come with their own set of limitations. Understanding these limitations can help in effectively applying GANs and in pursuing future research directions. Here are a few key ones:\n",
    "\n",
    "1. **Mode Collapse:** This happens when the generator starts producing the same output (or minor variations) over and over again, instead of generating diverse samples. It's a common issue in GAN training due to the dynamic nature of the adversarial process.\n",
    "\n",
    "2. **Training Stability:** GANs are notoriously hard to train. The simultaneous training of two networks (generator and discriminator) in an adversarial setup leads to a highly dynamic and unstable process. The networks may oscillate, and it might take a while to reach an equilibrium.\n",
    "\n",
    "3. **Lack of Explicit Control:** In a basic GAN setup, there's no way to control the kind of output the generator produces. It may be possible to guide the generation process by conditioning the generator with additional information, but this requires modifications to the basic GAN architecture.\n",
    "\n",
    "4. **Evaluation Difficulty:** It's challenging to measure the quality and diversity of the samples generated by GANs. Commonly used metrics, like Inception Score and Frechet Inception Distance, have their own limitations and biases."
   ],
   "metadata": {
    "collapsed": false
   }
  },
  {
   "cell_type": "markdown",
   "source": [
    "## 8. Summary and Conclusion <a class='anchor' id='section8'></a>\n",
    "\n",
    "\n",
    "In this notebook, we've explored the fascinating world of Generative Adversarial Networks (GANs). We've learned about the theory of GANs, their unique adversarial setup, and how they can generate new, realistic data. We've also implemented a simple GAN using the PyTorch library and trained it on the MNIST dataset.\n",
    "\n",
    "Here are the key takeaways from our exploration:\n",
    "\n",
    "1. **GAN Structure:** A GAN consists of two neural networks – a generator and a discriminator – that are trained together. The generator creates synthetic data, and the discriminator evaluates the authenticity of this data.\n",
    "\n",
    "2. **Training Process:** The training involves an iterative process, alternating between training the generator to produce more realistic data and training the discriminator to better distinguish between real and fake data.\n",
    "\n",
    "3. **MNIST Dataset:** We used the MNIST dataset for our GAN training. The dataset was preprocessed, including normalization and reshaping of the images, before being used for training.\n",
    "\n",
    "4. **GAN Limitations:** While GANs are powerful, they have their limitations, including mode collapse, training stability, lack of control over the output, and evaluation difficulty.\n",
    "\n",
    "Looking ahead, there's still much to explore with GANs. Advanced variations of GANs have been developed to address some of their limitations and to extend their capabilities. These include Conditional GANs, Wasserstein GANs, CycleGANs, and more. These advanced GANs have been used for tasks such as image-to-image translation, super-resolution, and even generating art!\n",
    "\n",
    "GANs represent a vibrant area of research in AI. We continue to improve their stability, control, and diversity!"
   ],
   "metadata": {
    "collapsed": false
   }
  },
  {
   "cell_type": "markdown",
   "source": [
    "## 9. Exercises and Challenges <a class='anchor' id='section9'></a>\n",
    "\n",
    "To further deepen your understanding of GANs, we recommend the following exercises and challenges. These tasks will allow you to apply what you've learned in this notebook and explore more advanced GAN topics.\n",
    "\n",
    "1. **Modify the GAN Architecture:** Try modifying the architecture of the generator and discriminator. You could change the number of layers, the number of neurons in each layer, or the types of layers used (e.g., introducing convolutional layers).\n",
    "\n",
    "2. **Change the Dataset:** Train the GAN on a different dataset. You could use another standard dataset such as CIFAR-10, or you could even try a custom dataset of your own!\n",
    "\n",
    "3. **Experiment with Different Loss Functions:** Explore different loss functions for training the GAN, such as Wasserstein loss or hinge loss.\n",
    "\n",
    "4. **Implement a Different Type of GAN:** Try implementing a more advanced type of GAN, such as a Deep Convolutional GAN (DCGAN), Conditional GAN (CGAN), or CycleGAN. These GANs offer additional features and capabilities beyond the basic GAN implemented in this notebook.\n",
    "\n",
    "5. **GAN Evaluation:** Investigate different ways to evaluate the performance of your GAN. This could involve implementing metrics like the Inception Score or Frechet Inception Distance, or qualitative methods like visual inspection or user studies.\n",
    "\n",
    "Remember, the best way to learn is by doing. Good luck with your GAN journey!"
   ],
   "metadata": {
    "collapsed": false
   }
  }
 ],
 "metadata": {
  "kernelspec": {
   "display_name": "Python 3",
   "language": "python",
   "name": "python3"
  },
  "language_info": {
   "codemirror_mode": {
    "name": "ipython",
    "version": 2
   },
   "file_extension": ".py",
   "mimetype": "text/x-python",
   "name": "python",
   "nbconvert_exporter": "python",
   "pygments_lexer": "ipython2",
   "version": "2.7.6"
  }
 },
 "nbformat": 4,
 "nbformat_minor": 0
}
